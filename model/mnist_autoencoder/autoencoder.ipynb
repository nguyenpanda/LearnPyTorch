{
 "cells": [
  {
   "cell_type": "code",
   "id": "initial_id",
   "metadata": {
    "collapsed": true,
    "ExecuteTime": {
     "end_time": "2024-08-26T00:28:14.743939Z",
     "start_time": "2024-08-26T00:28:14.739451Z"
    }
   },
   "source": [
    "import torch\n",
    "from torch import nn, optim\n",
    "from torch.utils.data import DataLoader, Dataset\n",
    "from torch.utils.data.dataloader import default_collate\n",
    "from torchinfo import summary\n",
    "from torchvision import transforms"
   ],
   "outputs": [],
   "execution_count": 17
  },
  {
   "metadata": {
    "ExecuteTime": {
     "end_time": "2024-08-26T00:38:49.303168Z",
     "start_time": "2024-08-26T00:38:49.297429Z"
    }
   },
   "cell_type": "code",
   "source": [
    "import numpy as np\n",
    "import pandas as pd\n",
    "import matplotlib.pyplot as plt\n",
    "\n",
    "import random\n",
    "\n",
    "from typing import Iterable\n",
    "from tqdm import tqdm\n",
    "from nguyenpanda.swan import green\n",
    "import nguyenpanda.crow as crow\n",
    "\n",
    "from pathlib import Path"
   ],
   "id": "c3f6b79cd8ee0349",
   "outputs": [],
   "execution_count": 28
  },
  {
   "metadata": {
    "ExecuteTime": {
     "end_time": "2024-08-26T00:16:54.332790Z",
     "start_time": "2024-08-26T00:16:54.321761Z"
    }
   },
   "cell_type": "code",
   "source": [
    "plt.style.use('dark_background')\n",
    "\n",
    "DEVICE = ('cuda' if torch.cuda.is_available() else\n",
    "          'mps' if torch.backends.mps.is_available() else\n",
    "          'cpu')\n",
    "print(green(DEVICE))\n",
    "\n",
    "IN_COLAB = crow.nb_utils.is_colab()\n",
    "print(green(IN_COLAB))"
   ],
   "id": "af07024c93ca82a7",
   "outputs": [
    {
     "name": "stdout",
     "output_type": "stream",
     "text": [
      "\u001B[1;92mcpu\u001B[0m\n",
      "\u001B[1;92mFalse\u001B[0m\n"
     ]
    }
   ],
   "execution_count": 8
  },
  {
   "metadata": {
    "ExecuteTime": {
     "end_time": "2024-08-26T00:16:54.473386Z",
     "start_time": "2024-08-26T00:16:54.468493Z"
    }
   },
   "cell_type": "code",
   "source": "dataset = crow.Dataset('MNIST').alias('/Users/hatuongnguyen/datasets/MNIST_CSV')",
   "id": "d2cac016b808bc24",
   "outputs": [
    {
     "name": "stdout",
     "output_type": "stream",
     "text": [
      "\u001B[1;93mDirectory \"\u001B[1;92m/Users/hatuongnguyen/Learning/PyTorch/model/mnist_autoencoder/MNIST\u001B[1;93m\" already exists!\u001B[0m\n"
     ]
    }
   ],
   "execution_count": 9
  },
  {
   "metadata": {
    "ExecuteTime": {
     "end_time": "2024-08-26T00:30:02.680822Z",
     "start_time": "2024-08-26T00:30:02.669516Z"
    }
   },
   "cell_type": "code",
   "source": [
    "class MyDataset(Dataset):\n",
    "\n",
    "    def __init__(self, csv_path: Path,\n",
    "                 transform,\n",
    "                 xy_range: Iterable[int] = (5, 15),\n",
    "                 wh_range: Iterable[int] = (7, 15)):\n",
    "        super().__init__()\n",
    "        self.trans = transform\n",
    "        self.df = pd.read_csv(csv_path)\n",
    "        self.path = csv_path\n",
    "        self.xy_range = xy_range\n",
    "        self.wh_range = wh_range\n",
    "\n",
    "    def __len__(self):\n",
    "        return len(self.df)\n",
    "\n",
    "    def __getitem__(self, item: int):\n",
    "        _data = self.df.iloc[item]\n",
    "        _tar = _data.iloc[1:].to_numpy().reshape((28, 28)).copy().astype(np.uint8)\n",
    "\n",
    "        _inp = _tar.copy()\n",
    "\n",
    "        _xy = np.random.randint(*self.xy_range, size=(2,))  # TODO: Change\n",
    "        _wh = np.random.randint(*self.wh_range, size=(2,))  # TODO: Change\n",
    "        _a = np.minimum(_xy + _wh, 27)\n",
    "\n",
    "        _inp[_xy[0]:_a[0], _xy[1]:_a[1]] = 0\n",
    "\n",
    "        return self.trans(_tar), self.trans(_inp)"
   ],
   "id": "af1d03abb515903",
   "outputs": [],
   "execution_count": 20
  },
  {
   "metadata": {
    "ExecuteTime": {
     "end_time": "2024-08-26T00:32:05.188834Z",
     "start_time": "2024-08-26T00:32:00.846583Z"
    }
   },
   "cell_type": "code",
   "source": [
    "train_transform = transforms.Compose([\n",
    "    transforms.ToTensor(),\n",
    "])\n",
    "\n",
    "test_transform = transforms.Compose([\n",
    "    transforms.ToTensor(),\n",
    "])\n",
    "\n",
    "train_dataset = MyDataset(dataset / 'train.csv', train_transform)\n",
    "test_dataset = MyDataset(dataset / 'test.csv', test_transform)\n",
    "\n",
    "print(len(train_dataset), len(test_dataset))"
   ],
   "id": "4659bb4047e329eb",
   "outputs": [
    {
     "name": "stdout",
     "output_type": "stream",
     "text": [
      "60000 10000\n"
     ]
    }
   ],
   "execution_count": 23
  },
  {
   "metadata": {
    "ExecuteTime": {
     "end_time": "2024-08-26T00:31:35.713060Z",
     "start_time": "2024-08-26T00:31:35.495461Z"
    }
   },
   "cell_type": "code",
   "source": [
    "data = train_dataset[random.randint(0, 10000)]\n",
    "\n",
    "plt.figure(figsize=(10, 5))\n",
    "\n",
    "ax = plt.subplot(1, 2, 1)\n",
    "ax.imshow(data[0].squeeze(), cmap='gray')\n",
    "ax.axis('off')\n",
    "\n",
    "ax = plt.subplot(1, 2, 2)\n",
    "ax.imshow(data[1].squeeze(), cmap='gray')\n",
    "ax.axis('off')\n",
    "\n",
    "plt.show()"
   ],
   "id": "8a669463dda00893",
   "outputs": [
    {
     "data": {
      "text/plain": [
       "<Figure size 1000x500 with 2 Axes>"
      ],
      "image/png": "[encoded data removed]"
     },
     "metadata": {},
     "output_type": "display_data"
    }
   ],
   "execution_count": 22
  },
  {
   "metadata": {
    "ExecuteTime": {
     "end_time": "2024-08-26T00:32:22.547980Z",
     "start_time": "2024-08-26T00:32:22.521935Z"
    }
   },
   "cell_type": "code",
   "source": [
    "def collate_func(batch_list):\n",
    "    return tuple(_tensor.to(DEVICE) for _tensor in default_collate(batch_list))\n",
    "\n",
    "\n",
    "BATCH_SIZE = 32\n",
    "train_loader = DataLoader(dataset=train_dataset, batch_size=BATCH_SIZE, collate_fn=collate_func)\n",
    "test_loader = DataLoader(dataset=test_dataset, batch_size=BATCH_SIZE, collate_fn=collate_func)"
   ],
   "id": "e2772b03057496b4",
   "outputs": [],
   "execution_count": 24
  },
  {
   "metadata": {
    "ExecuteTime": {
     "end_time": "2024-08-26T00:32:22.814931Z",
     "start_time": "2024-08-26T00:32:22.796567Z"
    }
   },
   "cell_type": "code",
   "source": [
    "a = next(iter(train_loader))\n",
    "print(type(a), len(a))\n",
    "print(a[0].shape)\n",
    "print(a[1].shape)"
   ],
   "id": "3f58b9e6c94e6c20",
   "outputs": [
    {
     "name": "stdout",
     "output_type": "stream",
     "text": [
      "<class 'tuple'> 2\n",
      "torch.Size([32, 1, 28, 28])\n",
      "torch.Size([32, 1, 28, 28])\n"
     ]
    }
   ],
   "execution_count": 25
  },
  {
   "metadata": {
    "ExecuteTime": {
     "end_time": "2024-08-26T00:32:23.460111Z",
     "start_time": "2024-08-26T00:32:23.235540Z"
    }
   },
   "cell_type": "code",
   "source": [
    "idx = random.randint(0, 31)\n",
    "\n",
    "plt.figure(figsize=(10, 5))\n",
    "\n",
    "ax = plt.subplot(1, 2, 1)\n",
    "data = a[0][idx]\n",
    "ax.imshow(data[0].squeeze(), cmap='gray')\n",
    "ax.axis('off')\n",
    "\n",
    "ax = plt.subplot(1, 2, 2)\n",
    "data = a[1][idx]\n",
    "ax.imshow(data[0].squeeze(), cmap='gray')\n",
    "ax.axis('off')\n",
    "\n",
    "plt.show()"
   ],
   "id": "96a3a8dd883df578",
   "outputs": [
    {
     "data": {
      "text/plain": [
       "<Figure size 1000x500 with 2 Axes>"
      ],
      "image/png": "[encoded data removed]"
     },
     "metadata": {},
     "output_type": "display_data"
    }
   ],
   "execution_count": 26
  },
  {
   "metadata": {
    "ExecuteTime": {
     "end_time": "2024-08-26T00:28:18.180277Z",
     "start_time": "2024-08-26T00:28:18.166865Z"
    }
   },
   "cell_type": "code",
   "source": [
    "class MyGodDamnModel(nn.Module):\n",
    "\n",
    "    def __init__(self):\n",
    "        super().__init__()\n",
    "        self.train_call = 0\n",
    "        self.zip = nn.Sequential(\n",
    "            nn.Conv2d(in_channels=1, out_channels=32, kernel_size=3, padding=1),\n",
    "            nn.ReLU(),\n",
    "            nn.MaxPool2d(kernel_size=2),\n",
    "\n",
    "            nn.Conv2d(in_channels=32, out_channels=64, kernel_size=3, padding=1),\n",
    "            nn.ReLU(),\n",
    "            nn.MaxPool2d(kernel_size=2),\n",
    "\n",
    "            nn.Conv2d(in_channels=64, out_channels=128, kernel_size=3, padding=1),\n",
    "        )\n",
    "\n",
    "        self.unzip = nn.Sequential(\n",
    "            nn.Conv2d(in_channels=128, out_channels=64, kernel_size=3, padding=1),\n",
    "            nn.ReLU(),\n",
    "            nn.Upsample(scale_factor=2),\n",
    "\n",
    "            nn.Conv2d(in_channels=64, out_channels=32, kernel_size=3, padding=1),\n",
    "            nn.ReLU(),\n",
    "            nn.Upsample(scale_factor=2),\n",
    "\n",
    "            nn.Conv2d(in_channels=32, out_channels=1, kernel_size=3, padding=1),\n",
    "        )\n",
    "\n",
    "    def forward(self, x):\n",
    "        x = self.zip(x)\n",
    "        return self.unzip(x)\n",
    "\n",
    "    def test_step(self, dataloader, loss_function):\n",
    "        total_batch = len(dataloader)\n",
    "        total_loss = 0\n",
    "\n",
    "        self.eval()\n",
    "        with torch.inference_mode():\n",
    "            for b, (x, y) in enumerate(dataloader, 1):\n",
    "                logit = self.forward(x)\n",
    "                loss = loss_function(logit, y)\n",
    "\n",
    "                total_loss += loss.item()\n",
    "        return total_loss / total_batch\n",
    "\n",
    "    def train_step(self, dataloader, loss_function, optimizer):\n",
    "        self.train_call += 1\n",
    "        total_batch = len(dataloader)\n",
    "        b_pad = len(str(total_batch))\n",
    "        total_loss = 0\n",
    "\n",
    "        self.train()\n",
    "        for b, (x, y) in enumerate(dataloader, 1):\n",
    "            logit = self.forward(x)\n",
    "\n",
    "            loss = loss_function(logit, y)\n",
    "            optimizer.zero_grad()\n",
    "            loss.backward()\n",
    "            optimizer.step()\n",
    "\n",
    "            total_loss += loss.item()\n",
    "\n",
    "            text = '{: >{}}/{} | ins_loss = \\033[1;92m{: >10.5f}\\033[0m'\n",
    "            if IN_COLAB:\n",
    "                text = '\\r' + text\n",
    "            else:\n",
    "                text = text + '\\r'\n",
    "            print(text.format(b, b_pad, total_batch, loss.item()), end='')\n",
    "        print()\n",
    "\n",
    "        return total_loss / total_batch"
   ],
   "id": "93d28e84927c8e81",
   "outputs": [],
   "execution_count": 18
  },
  {
   "metadata": {
    "ExecuteTime": {
     "end_time": "2024-08-26T00:38:01.486971Z",
     "start_time": "2024-08-26T00:38:01.427649Z"
    }
   },
   "cell_type": "code",
   "source": [
    "def wrap_value(value):\n",
    "    return green(f'{value: >8.5f}')\n",
    "\n",
    "\n",
    "EPOCHS = 50\n",
    "LEARNING_RATE = 5e-4\n",
    "HIDDEN_CHANNEL = 40\n",
    "\n",
    "history = dict(train_loss=[], test_loss=[])\n",
    "model = MyGodDamnModel().to(DEVICE)\n",
    "\n",
    "loss_func = nn.BCEWithLogitsLoss()\n",
    "opti = optim.Adam(params=model.parameters(), lr=LEARNING_RATE)\n",
    "\n",
    "print('EPOCHS:', green(EPOCHS))\n",
    "print('LEARNING_RATE:', green(LEARNING_RATE))\n",
    "print('loss_func:', green(loss_func))\n",
    "print('opti:', green(opti.__class__.__name__))\n",
    "\n",
    "summary(model, input_size=(BATCH_SIZE, 1, 28, 28))"
   ],
   "id": "83470ce43635e175",
   "outputs": [
    {
     "name": "stdout",
     "output_type": "stream",
     "text": [
      "EPOCHS: \u001B[1;92m50\u001B[0m\n",
      "LEARNING_RATE: \u001B[1;92m0.0005\u001B[0m\n",
      "loss_func: \u001B[1;92mBCEWithLogitsLoss()\u001B[0m\n",
      "opti: \u001B[1;92mAdam\u001B[0m\n"
     ]
    },
    {
     "data": {
      "text/plain": [
       "==========================================================================================\n",
       "Layer (type:depth-idx)                   Output Shape              Param #\n",
       "==========================================================================================\n",
       "MyGodDamnModel                           [32, 1, 28, 28]           --\n",
       "├─Sequential: 1-1                        [32, 128, 7, 7]           --\n",
       "│    └─Conv2d: 2-1                       [32, 32, 28, 28]          320\n",
       "│    └─ReLU: 2-2                         [32, 32, 28, 28]          --\n",
       "│    └─MaxPool2d: 2-3                    [32, 32, 14, 14]          --\n",
       "│    └─Conv2d: 2-4                       [32, 64, 14, 14]          18,496\n",
       "│    └─ReLU: 2-5                         [32, 64, 14, 14]          --\n",
       "│    └─MaxPool2d: 2-6                    [32, 64, 7, 7]            --\n",
       "│    └─Conv2d: 2-7                       [32, 128, 7, 7]           73,856\n",
       "├─Sequential: 1-2                        [32, 1, 28, 28]           --\n",
       "│    └─Conv2d: 2-8                       [32, 64, 7, 7]            73,792\n",
       "│    └─ReLU: 2-9                         [32, 64, 7, 7]            --\n",
       "│    └─Upsample: 2-10                    [32, 64, 14, 14]          --\n",
       "│    └─Conv2d: 2-11                      [32, 32, 14, 14]          18,464\n",
       "│    └─ReLU: 2-12                        [32, 32, 14, 14]          --\n",
       "│    └─Upsample: 2-13                    [32, 32, 28, 28]          --\n",
       "│    └─Conv2d: 2-14                      [32, 1, 28, 28]           289\n",
       "==========================================================================================\n",
       "Total params: 185,217\n",
       "Trainable params: 185,217\n",
       "Non-trainable params: 0\n",
       "Total mult-adds (Units.MEGABYTES): 478.60\n",
       "==========================================================================================\n",
       "Input size (MB): 0.10\n",
       "Forward/backward pass size (MB): 13.85\n",
       "Params size (MB): 0.74\n",
       "Estimated Total Size (MB): 14.69\n",
       "=========================================================================================="
      ]
     },
     "execution_count": 27,
     "metadata": {},
     "output_type": "execute_result"
    }
   ],
   "execution_count": 27
  },
  {
   "metadata": {
    "ExecuteTime": {
     "end_time": "2024-08-26T00:41:10.931430Z",
     "start_time": "2024-08-26T00:41:09.050952Z"
    }
   },
   "cell_type": "code",
   "source": [
    "MODEL_FILE_NAME = 'zip_unzip.pt'\n",
    "MODEL_PATH: Path = Path('/content/drive/MyDrive/Colab Notebooks/zip_unzip') if IN_COLAB else Path(Path.cwd() / 'parameter')\n",
    "\n",
    "_max_test_loss: int = -1\n",
    "\n",
    "for e in tqdm(range(1, EPOCHS + 1), desc='Epoch: '):\n",
    "    train_loss = model.train_step(train_loader, loss_func, opti)\n",
    "    test_loss = model.test_step(test_loader, loss_func)\n",
    "    print('train_loss = {} | test_loss = {}'.format(\n",
    "        wrap_value(train_loss), wrap_value(test_loss),\n",
    "    ))\n",
    "\n",
    "    history['train_loss'].append(train_loss)\n",
    "    history['test_loss'].append(test_loss)\n",
    "\n",
    "    if _max_test_loss <= test_loss:\n",
    "        _max_test_loss = test_loss\n",
    "\n",
    "        if not MODEL_PATH.is_dir():\n",
    "            MODEL_PATH.mkdir(parents=True, exist_ok=True)\n",
    "        torch.save(model.state_dict(), MODEL_PATH / MODEL_FILE_NAME)"
   ],
   "id": "e685208e91ef1010",
   "outputs": [
    {
     "name": "stderr",
     "output_type": "stream",
     "text": [
      "Epoch:   0%|          | 0/50 [00:00<?, ?it/s]"
     ]
    },
    {
     "name": "stdout",
     "output_type": "stream",
     "text": [
      "  23/1875 | ins_loss = \u001B[1;92m   0.12890\u001B[0m\r"
     ]
    },
    {
     "name": "stderr",
     "output_type": "stream",
     "text": [
      "Epoch:   0%|          | 0/50 [00:01<?, ?it/s]"
     ]
    },
    {
     "name": "stdout",
     "output_type": "stream",
     "text": [
      "  25/1875 | ins_loss = \u001B[1;92m   0.13152\u001B[0m\r"
     ]
    },
    {
     "name": "stderr",
     "output_type": "stream",
     "text": [
      "\n"
     ]
    },
    {
     "ename": "KeyboardInterrupt",
     "evalue": "",
     "output_type": "error",
     "traceback": [
      "\u001B[0;31m---------------------------------------------------------------------------\u001B[0m",
      "\u001B[0;31mKeyboardInterrupt\u001B[0m                         Traceback (most recent call last)",
      "Cell \u001B[0;32mIn[36], line 7\u001B[0m\n\u001B[1;32m      4\u001B[0m _max_test_loss: \u001B[38;5;28mint\u001B[39m \u001B[38;5;241m=\u001B[39m \u001B[38;5;241m-\u001B[39m\u001B[38;5;241m1\u001B[39m\n\u001B[1;32m      6\u001B[0m \u001B[38;5;28;01mfor\u001B[39;00m e \u001B[38;5;129;01min\u001B[39;00m tqdm(\u001B[38;5;28mrange\u001B[39m(\u001B[38;5;241m1\u001B[39m, EPOCHS \u001B[38;5;241m+\u001B[39m \u001B[38;5;241m1\u001B[39m), desc\u001B[38;5;241m=\u001B[39m\u001B[38;5;124m'\u001B[39m\u001B[38;5;124mEpoch: \u001B[39m\u001B[38;5;124m'\u001B[39m):\n\u001B[0;32m----> 7\u001B[0m     train_loss \u001B[38;5;241m=\u001B[39m \u001B[43mmodel\u001B[49m\u001B[38;5;241;43m.\u001B[39;49m\u001B[43mtrain_step\u001B[49m\u001B[43m(\u001B[49m\u001B[43mtrain_loader\u001B[49m\u001B[43m,\u001B[49m\u001B[43m \u001B[49m\u001B[43mloss_func\u001B[49m\u001B[43m,\u001B[49m\u001B[43m \u001B[49m\u001B[43mopti\u001B[49m\u001B[43m)\u001B[49m\n\u001B[1;32m      8\u001B[0m     test_loss \u001B[38;5;241m=\u001B[39m model\u001B[38;5;241m.\u001B[39mtest_step(test_loader, loss_func)\n\u001B[1;32m      9\u001B[0m     \u001B[38;5;28mprint\u001B[39m(\u001B[38;5;124m'\u001B[39m\u001B[38;5;124mtrain_loss = \u001B[39m\u001B[38;5;132;01m{}\u001B[39;00m\u001B[38;5;124m | test_loss = \u001B[39m\u001B[38;5;132;01m{}\u001B[39;00m\u001B[38;5;124m'\u001B[39m\u001B[38;5;241m.\u001B[39mformat(\n\u001B[1;32m     10\u001B[0m         wrap_value(train_loss), wrap_value(test_loss),\n\u001B[1;32m     11\u001B[0m     ))\n",
      "Cell \u001B[0;32mIn[18], line 59\u001B[0m, in \u001B[0;36mMyGodDamnModel.train_step\u001B[0;34m(self, dataloader, loss_function, optimizer)\u001B[0m\n\u001B[1;32m     57\u001B[0m loss \u001B[38;5;241m=\u001B[39m loss_function(logit, y)\n\u001B[1;32m     58\u001B[0m optimizer\u001B[38;5;241m.\u001B[39mzero_grad()\n\u001B[0;32m---> 59\u001B[0m \u001B[43mloss\u001B[49m\u001B[38;5;241;43m.\u001B[39;49m\u001B[43mbackward\u001B[49m\u001B[43m(\u001B[49m\u001B[43m)\u001B[49m\n\u001B[1;32m     60\u001B[0m optimizer\u001B[38;5;241m.\u001B[39mstep()\n\u001B[1;32m     62\u001B[0m total_loss \u001B[38;5;241m+\u001B[39m\u001B[38;5;241m=\u001B[39m loss\u001B[38;5;241m.\u001B[39mitem()\n",
      "File \u001B[0;32m~/Learning/PyTorch/.venv/lib/python3.11/site-packages/torch/_tensor.py:522\u001B[0m, in \u001B[0;36mTensor.backward\u001B[0;34m(self, gradient, retain_graph, create_graph, inputs)\u001B[0m\n\u001B[1;32m    512\u001B[0m \u001B[38;5;28;01mif\u001B[39;00m has_torch_function_unary(\u001B[38;5;28mself\u001B[39m):\n\u001B[1;32m    513\u001B[0m     \u001B[38;5;28;01mreturn\u001B[39;00m handle_torch_function(\n\u001B[1;32m    514\u001B[0m         Tensor\u001B[38;5;241m.\u001B[39mbackward,\n\u001B[1;32m    515\u001B[0m         (\u001B[38;5;28mself\u001B[39m,),\n\u001B[0;32m   (...)\u001B[0m\n\u001B[1;32m    520\u001B[0m         inputs\u001B[38;5;241m=\u001B[39minputs,\n\u001B[1;32m    521\u001B[0m     )\n\u001B[0;32m--> 522\u001B[0m \u001B[43mtorch\u001B[49m\u001B[38;5;241;43m.\u001B[39;49m\u001B[43mautograd\u001B[49m\u001B[38;5;241;43m.\u001B[39;49m\u001B[43mbackward\u001B[49m\u001B[43m(\u001B[49m\n\u001B[1;32m    523\u001B[0m \u001B[43m    \u001B[49m\u001B[38;5;28;43mself\u001B[39;49m\u001B[43m,\u001B[49m\u001B[43m \u001B[49m\u001B[43mgradient\u001B[49m\u001B[43m,\u001B[49m\u001B[43m \u001B[49m\u001B[43mretain_graph\u001B[49m\u001B[43m,\u001B[49m\u001B[43m \u001B[49m\u001B[43mcreate_graph\u001B[49m\u001B[43m,\u001B[49m\u001B[43m \u001B[49m\u001B[43minputs\u001B[49m\u001B[38;5;241;43m=\u001B[39;49m\u001B[43minputs\u001B[49m\n\u001B[1;32m    524\u001B[0m \u001B[43m\u001B[49m\u001B[43m)\u001B[49m\n",
      "File \u001B[0;32m~/Learning/PyTorch/.venv/lib/python3.11/site-packages/torch/autograd/__init__.py:266\u001B[0m, in \u001B[0;36mbackward\u001B[0;34m(tensors, grad_tensors, retain_graph, create_graph, grad_variables, inputs)\u001B[0m\n\u001B[1;32m    261\u001B[0m     retain_graph \u001B[38;5;241m=\u001B[39m create_graph\n\u001B[1;32m    263\u001B[0m \u001B[38;5;66;03m# The reason we repeat the same comment below is that\u001B[39;00m\n\u001B[1;32m    264\u001B[0m \u001B[38;5;66;03m# some Python versions print out the first line of a multi-line function\u001B[39;00m\n\u001B[1;32m    265\u001B[0m \u001B[38;5;66;03m# calls in the traceback and some print out the last line\u001B[39;00m\n\u001B[0;32m--> 266\u001B[0m \u001B[43mVariable\u001B[49m\u001B[38;5;241;43m.\u001B[39;49m\u001B[43m_execution_engine\u001B[49m\u001B[38;5;241;43m.\u001B[39;49m\u001B[43mrun_backward\u001B[49m\u001B[43m(\u001B[49m\u001B[43m  \u001B[49m\u001B[38;5;66;43;03m# Calls into the C++ engine to run the backward pass\u001B[39;49;00m\n\u001B[1;32m    267\u001B[0m \u001B[43m    \u001B[49m\u001B[43mtensors\u001B[49m\u001B[43m,\u001B[49m\n\u001B[1;32m    268\u001B[0m \u001B[43m    \u001B[49m\u001B[43mgrad_tensors_\u001B[49m\u001B[43m,\u001B[49m\n\u001B[1;32m    269\u001B[0m \u001B[43m    \u001B[49m\u001B[43mretain_graph\u001B[49m\u001B[43m,\u001B[49m\n\u001B[1;32m    270\u001B[0m \u001B[43m    \u001B[49m\u001B[43mcreate_graph\u001B[49m\u001B[43m,\u001B[49m\n\u001B[1;32m    271\u001B[0m \u001B[43m    \u001B[49m\u001B[43minputs\u001B[49m\u001B[43m,\u001B[49m\n\u001B[1;32m    272\u001B[0m \u001B[43m    \u001B[49m\u001B[43mallow_unreachable\u001B[49m\u001B[38;5;241;43m=\u001B[39;49m\u001B[38;5;28;43;01mTrue\u001B[39;49;00m\u001B[43m,\u001B[49m\n\u001B[1;32m    273\u001B[0m \u001B[43m    \u001B[49m\u001B[43maccumulate_grad\u001B[49m\u001B[38;5;241;43m=\u001B[39;49m\u001B[38;5;28;43;01mTrue\u001B[39;49;00m\u001B[43m,\u001B[49m\n\u001B[1;32m    274\u001B[0m \u001B[43m\u001B[49m\u001B[43m)\u001B[49m\n",
      "\u001B[0;31mKeyboardInterrupt\u001B[0m: "
     ]
    }
   ],
   "execution_count": 36
  },
  {
   "metadata": {
    "ExecuteTime": {
     "end_time": "2024-08-26T00:41:24.075714Z",
     "start_time": "2024-08-26T00:41:24.057695Z"
    }
   },
   "cell_type": "code",
   "source": [
    "print(MODEL_PATH)\n",
    "\n",
    "model_load = MyGodDamnModel().to(DEVICE)\n",
    "model_load.load_state_dict(torch.load(MODEL_PATH / 'best.pt', map_location=torch.device('cpu')))"
   ],
   "id": "400bf4bbba44643f",
   "outputs": [
    {
     "name": "stdout",
     "output_type": "stream",
     "text": [
      "/Users/hatuongnguyen/Learning/PyTorch/model/mnist_autoencoder/parameter\n"
     ]
    },
    {
     "data": {
      "text/plain": [
       "<All keys matched successfully>"
      ]
     },
     "execution_count": 38,
     "metadata": {},
     "output_type": "execute_result"
    }
   ],
   "execution_count": 38
  },
  {
   "metadata": {
    "ExecuteTime": {
     "end_time": "2024-08-26T01:17:58.989086Z",
     "start_time": "2024-08-26T01:17:58.040583Z"
    }
   },
   "cell_type": "code",
   "source": [
    "from matplotlib.image import imsave\n",
    "\n",
    "for i, a in enumerate(test_loader):\n",
    "    if i == 3:\n",
    "        break\n",
    "\n",
    "model_load.eval()\n",
    "with torch.inference_mode():\n",
    "    output = model_load(a[0])\n",
    "\n",
    "idx = random.randint(0, 31)\n",
    "\n",
    "plt.figure(figsize=(20, 5))\n",
    "\n",
    "ax = plt.subplot(1, 5, 1)\n",
    "target = a[0][idx]\n",
    "ax.imshow(target[0].squeeze(), cmap='gray')\n",
    "ax.axis('off')\n",
    "print(torch.sum(target[0]))\n",
    "\n",
    "ax = plt.subplot(1, 5, 2)\n",
    "miss = a[1][idx]\n",
    "ax.imshow(miss[0].squeeze(), cmap='gray')\n",
    "imsave('missing.png', (255 * miss[0]).type(torch.int8).squeeze().numpy(), cmap='gray')\n",
    "ax.axis('off')\n",
    "print(torch.sum(miss[0]))\n",
    "\n",
    "ax = plt.subplot(1, 5, 3)\n",
    "ax.imshow(output[idx].squeeze(), cmap='gray')\n",
    "ax.axis('off')\n",
    "print(torch.sum(output[idx]))\n",
    "\n",
    "ax = plt.subplot(1, 5, 4)\n",
    "_output = torch.sigmoid(output)\n",
    "ax.imshow(_output[idx].squeeze(), cmap='gray')\n",
    "ax.axis('off')\n",
    "print(torch.sum(output[idx]))\n",
    "\n",
    "ax = plt.subplot(1, 5, 5)\n",
    "delta = _output[idx] - miss\n",
    "ax.imshow(delta.squeeze(), cmap='inferno')\n",
    "ax.axis('off')\n",
    "print(torch.sum(delta))\n",
    "\n",
    "plt.show()"
   ],
   "id": "da3908fc6e34f45b",
   "outputs": [
    {
     "name": "stdout",
     "output_type": "stream",
     "text": [
      "tensor(103.6039)\n",
      "tensor(84.7333)\n",
      "tensor(-10831.1553)\n",
      "tensor(-10831.1553)\n",
      "tensor(-11.7927)\n"
     ]
    },
    {
     "data": {
      "text/plain": [
       "<Figure size 2000x500 with 5 Axes>"
      ],
      "image/png": "[encoded data removed]"
     },
     "metadata": {},
     "output_type": "display_data"
    }
   ],
   "execution_count": 84
  },
  {
   "metadata": {
    "ExecuteTime": {
     "end_time": "2024-08-26T01:10:46.071357Z",
     "start_time": "2024-08-26T01:10:46.062594Z"
    }
   },
   "cell_type": "code",
   "source": [
    "VALIDATION_PATH: Path = Path.cwd() / 'validation'\n",
    "print(VALIDATION_PATH)\n",
    "\n",
    "class ValidationDataset(Dataset):\n",
    "    \n",
    "    def __init__(self, path: Path, transform):\n",
    "        self.path = path\n",
    "        self.list_img = list(path.glob('*.png'))\n",
    "        self.trans = transform\n",
    "        \n",
    "    def __len__(self):\n",
    "        return len(self.list_img)\n",
    "    \n",
    "    def __getitem__(self, item) -> torch.Tensor:\n",
    "        img = self.get_img(item)\n",
    "        \n",
    "        _xy = np.random.randint(5, 15, size=(2,))  # TODO: Change\n",
    "        _wh = np.random.randint(7, 15, size=(2,))  # TODO: Change\n",
    "        _a = np.minimum(_xy + _wh, 27)\n",
    "        \n",
    "        img[_xy[0]:_a[0], _xy[1]:_a[1]] = 0\n",
    "        return self.trans(img)\n",
    "    \n",
    "    def get_img(self, item):\n",
    "        img_path = self.list_img[item]\n",
    "        img = plt.imread(img_path)\n",
    "        if img.ndim > 1:\n",
    "            img = img[..., 0]\n",
    "        return img"
   ],
   "id": "87a32f6554f10216",
   "outputs": [
    {
     "name": "stdout",
     "output_type": "stream",
     "text": [
      "/Users/hatuongnguyen/Learning/PyTorch/model/mnist_autoencoder/validation\n"
     ]
    }
   ],
   "execution_count": 80
  },
  {
   "metadata": {
    "ExecuteTime": {
     "end_time": "2024-08-26T01:10:46.353967Z",
     "start_time": "2024-08-26T01:10:46.349573Z"
    }
   },
   "cell_type": "code",
   "source": "validation_dataset = ValidationDataset(VALIDATION_PATH, train_transform)",
   "id": "d738535910786eb",
   "outputs": [],
   "execution_count": 81
  },
  {
   "metadata": {
    "ExecuteTime": {
     "end_time": "2024-08-26T01:20:11.573691Z",
     "start_time": "2024-08-26T01:20:11.000473Z"
    }
   },
   "cell_type": "code",
   "source": [
    "img = validation_dataset[2].unsqueeze(dim=0)\n",
    "\n",
    "plt.figure(figsize=(20, 5))\n",
    "\n",
    "ax = plt.subplot(1, 4, 1)\n",
    "ax.imshow(img.squeeze().numpy(), cmap='gray')\n",
    "ax.axis('off')\n",
    "\n",
    "ax = plt.subplot(1, 4, 2)\n",
    "model_load.eval()\n",
    "with torch.inference_mode():\n",
    "    logit = model_load(img)\n",
    "ax.imshow(logit.squeeze().numpy(), cmap='gray')\n",
    "ax.axis('off')\n",
    "\n",
    "ax = plt.subplot(1, 4, 3)\n",
    "tar = torch.sigmoid(logit)\n",
    "ax.imshow(tar.squeeze().numpy(), cmap='gray')\n",
    "ax.axis('off')\n",
    "\n",
    "ax = plt.subplot(1, 4, 4)\n",
    "delta = img - tar\n",
    "ax.imshow(delta.squeeze().numpy(), cmap='gray')\n",
    "ax.axis('off')\n",
    "\n",
    "plt.show()"
   ],
   "id": "17724516c65f2b93",
   "outputs": [
    {
     "data": {
      "text/plain": [
       "<Figure size 2000x500 with 4 Axes>"
      ],
      "image/png": "[encoded data removed]"
     },
     "metadata": {},
     "output_type": "display_data"
    }
   ],
   "execution_count": 93
  },
  {
   "metadata": {
    "ExecuteTime": {
     "end_time": "2024-08-26T01:20:38.573650Z",
     "start_time": "2024-08-26T01:20:38.559397Z"
    }
   },
   "cell_type": "code",
   "source": "validation_dataset.get_img(3)",
   "id": "b166b827212ec97d",
   "outputs": [
    {
     "data": {
      "text/plain": [
       "array([[0.        , 0.        , 0.        , 0.        , 0.        ,\n",
       "        0.        , 0.        , 0.        , 0.        , 0.        ,\n",
       "        0.        , 0.        , 0.        , 0.        , 0.        ,\n",
       "        0.        , 0.        , 0.        , 0.        , 0.        ,\n",
       "        0.        , 0.        , 0.        , 0.        , 0.        ,\n",
       "        0.        , 0.        , 0.        ],\n",
       "       [0.        , 0.        , 0.        , 0.        , 0.        ,\n",
       "        0.        , 0.        , 0.        , 0.        , 0.        ,\n",
       "        0.        , 0.        , 0.        , 0.        , 0.        ,\n",
       "        0.        , 0.        , 0.        , 0.        , 0.        ,\n",
       "        0.        , 0.        , 0.        , 0.        , 0.        ,\n",
       "        0.        , 0.        , 0.        ],\n",
       "       [0.        , 0.        , 0.        , 0.        , 0.        ,\n",
       "        0.        , 0.        , 0.        , 0.        , 0.        ,\n",
       "        0.        , 0.        , 0.        , 0.        , 0.        ,\n",
       "        0.        , 0.        , 0.        , 0.        , 0.        ,\n",
       "        0.        , 0.        , 0.        , 0.        , 0.        ,\n",
       "        0.        , 0.        , 0.        ],\n",
       "       [0.        , 0.        , 0.        , 0.        , 0.        ,\n",
       "        0.        , 0.        , 0.        , 0.        , 0.        ,\n",
       "        0.        , 0.        , 0.        , 0.        , 0.        ,\n",
       "        0.        , 0.        , 0.        , 0.        , 0.        ,\n",
       "        0.        , 0.        , 0.        , 0.        , 0.        ,\n",
       "        0.        , 0.        , 0.        ],\n",
       "       [0.        , 0.        , 0.        , 0.        , 0.        ,\n",
       "        0.        , 0.        , 0.        , 0.        , 0.        ,\n",
       "        0.        , 0.        , 0.        , 0.        , 0.        ,\n",
       "        0.        , 0.        , 0.        , 0.        , 0.        ,\n",
       "        0.        , 0.        , 0.        , 0.        , 0.        ,\n",
       "        0.        , 0.        , 0.        ],\n",
       "       [0.        , 0.        , 0.        , 0.        , 0.        ,\n",
       "        0.        , 0.        , 0.        , 0.        , 0.        ,\n",
       "        0.        , 0.        , 0.        , 0.        , 0.        ,\n",
       "        0.        , 0.        , 0.        , 0.        , 0.        ,\n",
       "        0.        , 0.        , 0.        , 0.        , 0.        ,\n",
       "        0.        , 0.        , 0.        ],\n",
       "       [0.        , 0.        , 0.        , 0.        , 0.        ,\n",
       "        0.        , 0.        , 0.        , 0.        , 0.        ,\n",
       "        0.        , 0.09019608, 0.01568628, 0.        , 0.02745098,\n",
       "        0.11372549, 0.11372549, 0.36078432, 0.5529412 , 0.5529412 ,\n",
       "        0.5529412 , 0.9529412 , 0.8509804 , 0.8509804 , 0.30980393,\n",
       "        0.        , 0.        , 0.        ],\n",
       "       [0.        , 0.        , 0.        , 0.        , 0.        ,\n",
       "        0.        , 0.        , 0.        , 0.4       , 0.6666667 ,\n",
       "        0.6666667 , 0.92156863, 0.69803923, 0.6666667 , 0.7372549 ,\n",
       "        0.99215686, 0.99215686, 0.99607843, 0.99215686, 0.99215686,\n",
       "        0.99215686, 0.99607843, 0.99215686, 0.99215686, 0.54901963,\n",
       "        0.        , 0.        , 0.        ],\n",
       "       [0.        , 0.        , 0.        , 0.        , 0.        ,\n",
       "        0.        , 0.        , 0.2627451 , 0.92156863, 1.        ,\n",
       "        0.99215686, 0.99215686, 0.99215686, 0.99607843, 0.99215686,\n",
       "        0.73333335, 0.65882355, 0.6627451 , 0.65882355, 0.31764707,\n",
       "        0.21960784, 0.30588236, 0.99215686, 0.88235295, 0.16862746,\n",
       "        0.        , 0.        , 0.        ],\n",
       "       [0.        , 0.        , 0.        , 0.        , 0.        ,\n",
       "        0.        , 0.10196079, 0.8745098 , 0.99215686, 0.7490196 ,\n",
       "        0.84705883, 0.99215686, 0.79607844, 0.30588236, 0.10980392,\n",
       "        0.02352941, 0.        , 0.        , 0.        , 0.        ,\n",
       "        0.        , 0.01568628, 0.30588236, 0.07450981, 0.        ,\n",
       "        0.        , 0.        , 0.        ],\n",
       "       [0.        , 0.        , 0.        , 0.        , 0.        ,\n",
       "        0.16470589, 0.99607843, 1.        , 0.7490196 , 0.        ,\n",
       "        0.2       , 0.8862745 , 0.09803922, 0.        , 0.        ,\n",
       "        0.        , 0.        , 0.        , 0.        , 0.        ,\n",
       "        0.        , 0.        , 0.        , 0.        , 0.        ,\n",
       "        0.        , 0.        , 0.        ],\n",
       "       [0.        , 0.        , 0.        , 0.        , 0.        ,\n",
       "        0.5529412 , 0.99215686, 0.99215686, 0.84705883, 0.6666667 ,\n",
       "        0.37254903, 0.21960784, 0.1254902 , 0.        , 0.        ,\n",
       "        0.        , 0.        , 0.        , 0.        , 0.        ,\n",
       "        0.        , 0.        , 0.        , 0.        , 0.        ,\n",
       "        0.        , 0.        , 0.        ],\n",
       "       [0.        , 0.        , 0.        , 0.        , 0.        ,\n",
       "        0.21176471, 0.99215686, 0.        , 0.        , 0.        ,\n",
       "        0.        , 0.        , 0.        , 0.        , 0.        ,\n",
       "        0.        , 0.        , 0.        , 0.        , 0.        ,\n",
       "        0.        , 0.        , 0.        , 0.        , 0.        ,\n",
       "        0.        , 0.        , 0.        ],\n",
       "       [0.        , 0.        , 0.        , 0.        , 0.        ,\n",
       "        0.01568628, 0.10980392, 0.        , 0.        , 0.        ,\n",
       "        0.        , 0.        , 0.        , 0.        , 0.        ,\n",
       "        0.        , 0.        , 0.        , 0.        , 0.        ,\n",
       "        0.        , 0.        , 0.        , 0.        , 0.        ,\n",
       "        0.        , 0.        , 0.        ],\n",
       "       [0.        , 0.        , 0.        , 0.        , 0.        ,\n",
       "        0.        , 0.        , 0.        , 0.        , 0.        ,\n",
       "        0.        , 0.        , 0.        , 0.        , 0.        ,\n",
       "        0.        , 0.        , 0.5058824 , 0.03921569, 0.        ,\n",
       "        0.        , 0.        , 0.        , 0.        , 0.        ,\n",
       "        0.        , 0.        , 0.        ],\n",
       "       [0.        , 0.        , 0.        , 0.        , 0.        ,\n",
       "        0.        , 0.        , 0.        , 0.        , 0.        ,\n",
       "        0.        , 0.        , 0.        , 0.        , 0.        ,\n",
       "        0.        , 0.        , 0.99607843, 0.6745098 , 0.05098039,\n",
       "        0.        , 0.        , 0.        , 0.        , 0.        ,\n",
       "        0.        , 0.        , 0.        ],\n",
       "       [0.        , 0.        , 0.        , 0.        , 0.        ,\n",
       "        0.        , 0.        , 0.        , 0.        , 0.        ,\n",
       "        0.        , 0.        , 0.        , 0.        , 0.        ,\n",
       "        0.        , 0.        , 0.99607843, 0.99215686, 0.36862746,\n",
       "        0.        , 0.        , 0.        , 0.        , 0.        ,\n",
       "        0.        , 0.        , 0.        ],\n",
       "       [0.        , 0.        , 0.        , 0.        , 0.        ,\n",
       "        0.        , 0.        , 0.        , 0.        , 0.        ,\n",
       "        0.        , 0.        , 0.        , 0.        , 0.        ,\n",
       "        0.        , 0.        , 0.40784314, 0.99215686, 0.80784315,\n",
       "        0.05098039, 0.        , 0.        , 0.        , 0.        ,\n",
       "        0.        , 0.        , 0.        ],\n",
       "       [0.        , 0.        , 0.        , 0.        , 0.        ,\n",
       "        0.        , 0.        , 0.        , 0.        , 0.        ,\n",
       "        0.        , 0.        , 0.        , 0.        , 0.        ,\n",
       "        0.        , 0.        , 0.36078432, 0.99607843, 0.99607843,\n",
       "        0.30588236, 0.        , 0.        , 0.        , 0.        ,\n",
       "        0.        , 0.        , 0.        ],\n",
       "       [0.        , 0.        , 0.        , 0.        , 0.        ,\n",
       "        0.        , 0.        , 0.        , 0.        , 0.        ,\n",
       "        0.        , 0.        , 0.        , 0.        , 0.        ,\n",
       "        0.        , 0.        , 0.8509804 , 0.99215686, 0.99215686,\n",
       "        0.10980392, 0.        , 0.        , 0.        , 0.        ,\n",
       "        0.        , 0.        , 0.        ],\n",
       "       [0.        , 0.        , 0.        , 0.        , 0.        ,\n",
       "        0.        , 0.        , 0.        , 0.        , 0.        ,\n",
       "        0.        , 0.        , 0.        , 0.        , 0.        ,\n",
       "        0.2627451 , 0.8235294 , 0.99607843, 0.99215686, 0.3882353 ,\n",
       "        0.02352941, 0.        , 0.        , 0.        , 0.        ,\n",
       "        0.        , 0.        , 0.        ],\n",
       "       [0.        , 0.        , 0.        , 0.        , 0.        ,\n",
       "        0.        , 0.        , 0.        , 0.        , 0.        ,\n",
       "        0.        , 0.        , 0.        , 0.        , 0.29803923,\n",
       "        0.8745098 , 0.99215686, 0.99607843, 0.59607846, 0.02352941,\n",
       "        0.        , 0.        , 0.        , 0.        , 0.        ,\n",
       "        0.        , 0.        , 0.        ],\n",
       "       [0.        , 0.        , 0.        , 0.        , 0.        ,\n",
       "        0.        , 0.        , 0.28627452, 0.01568628, 0.        ,\n",
       "        0.        , 0.        , 0.10196079, 0.8039216 , 0.99607843,\n",
       "        0.99607843, 0.9490196 , 0.5921569 , 0.        , 0.        ,\n",
       "        0.        , 0.        , 0.        , 0.        , 0.        ,\n",
       "        0.        , 0.        , 0.        ],\n",
       "       [0.        , 0.        , 0.        , 0.        , 0.        ,\n",
       "        0.        , 0.        , 0.7764706 , 0.5019608 , 0.21960784,\n",
       "        0.31764707, 0.6627451 , 0.9529412 , 0.99607843, 0.99215686,\n",
       "        0.81960785, 0.23137255, 0.        , 0.        , 0.        ,\n",
       "        0.        , 0.        , 0.        , 0.        , 0.        ,\n",
       "        0.        , 0.        , 0.        ],\n",
       "       [0.        , 0.        , 0.        , 0.        , 0.        ,\n",
       "        0.        , 0.        , 0.627451  , 0.99215686, 0.99607843,\n",
       "        0.99215686, 0.99215686, 0.99215686, 0.9607843 , 0.56078434,\n",
       "        0.05098039, 0.        , 0.        , 0.        , 0.        ,\n",
       "        0.        , 0.        , 0.        , 0.        , 0.        ,\n",
       "        0.        , 0.        , 0.        ],\n",
       "       [0.        , 0.        , 0.        , 0.        , 0.        ,\n",
       "        0.        , 0.        , 0.03921569, 0.5019608 , 0.8       ,\n",
       "        0.99215686, 0.84313726, 0.54901963, 0.09803922, 0.        ,\n",
       "        0.        , 0.        , 0.        , 0.        , 0.        ,\n",
       "        0.        , 0.        , 0.        , 0.        , 0.        ,\n",
       "        0.        , 0.        , 0.        ],\n",
       "       [0.        , 0.        , 0.        , 0.        , 0.        ,\n",
       "        0.        , 0.        , 0.        , 0.        , 0.        ,\n",
       "        0.        , 0.        , 0.        , 0.        , 0.        ,\n",
       "        0.        , 0.        , 0.        , 0.        , 0.        ,\n",
       "        0.        , 0.        , 0.        , 0.        , 0.        ,\n",
       "        0.        , 0.        , 0.        ],\n",
       "       [0.        , 0.        , 0.        , 0.        , 0.        ,\n",
       "        0.        , 0.        , 0.        , 0.        , 0.        ,\n",
       "        0.        , 0.        , 0.        , 0.        , 0.        ,\n",
       "        0.        , 0.        , 0.        , 0.        , 0.        ,\n",
       "        0.        , 0.        , 0.        , 0.        , 0.        ,\n",
       "        0.        , 0.        , 0.        ]], dtype=float32)"
      ]
     },
     "execution_count": 94,
     "metadata": {},
     "output_type": "execute_result"
    }
   ],
   "execution_count": 94
  },
  {
   "metadata": {},
   "cell_type": "code",
   "outputs": [],
   "execution_count": null,
   "source": "",
   "id": "2b907f400affb531"
  }
 ],
 "metadata": {
  "kernelspec": {
   "display_name": "Python 3",
   "language": "python",
   "name": "python3"
  },
  "language_info": {
   "codemirror_mode": {
    "name": "ipython",
    "version": 2
   },
   "file_extension": ".py",
   "mimetype": "text/x-python",
   "name": "python",
   "nbconvert_exporter": "python",
   "pygments_lexer": "ipython2",
   "version": "2.7.6"
  }
 },
 "nbformat": 4,
 "nbformat_minor": 5
}
