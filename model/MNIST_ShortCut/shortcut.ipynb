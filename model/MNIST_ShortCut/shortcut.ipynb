{
 "cells": [
  {
   "metadata": {},
   "cell_type": "markdown",
   "source": [
    "#  (Nguyen Tuong Ha - nguyenpanda)\n",
    "- Dataset link: [Kaggle]()\n",
    "\n",
    "# Table of Contents\n",
    "<!-- TOC -->\n",
    "* [(Nguyen Tuong Ha - nguyenpanda)](#nguyen-tuong-ha---nguyenpanda)\n",
    "* [Table of Contents](#table-of-contents)\n",
    "* [0. Setup](#0-setup)\n",
    "  * [0.0. Install packages](#00-install-packages)\n",
    "  * [0.1. Checking running environment](#01-checking-running-environment)\n",
    "    * [Download dataset from Kaggle](#download-dataset-from-kaggle)\n",
    "    * [Creating a symbolic link (alias) to an exist directory](#creating-a-symbolic-link-alias-to-an-exist-directory)\n",
    "<!-- TOC -->"
   ],
   "id": "aad565d935037d74"
  },
  {
   "metadata": {},
   "cell_type": "markdown",
   "source": "# 0. Setup",
   "id": "663c9807a2b53bdf"
  },
  {
   "metadata": {},
   "cell_type": "markdown",
   "source": "## 0.0. Install packages",
   "id": "ab92150c7108694f"
  },
  {
   "cell_type": "code",
   "id": "initial_id",
   "metadata": {
    "collapsed": true
   },
   "source": "!pip install nguyenpanda kaggle torchmetrics torchinfo mlxtend",
   "outputs": [],
   "execution_count": null
  },
  {
   "metadata": {
    "ExecuteTime": {
     "end_time": "2024-09-25T14:40:27.642236Z",
     "start_time": "2024-09-25T14:40:23.612389Z"
    }
   },
   "cell_type": "code",
   "source": [
    "import torch\n",
    "import torchvision\n",
    "\n",
    "from torch import nn\n",
    "from torch import optim\n",
    "from torchmetrics import ConfusionMatrix\n",
    "from torch.utils import data as torch_data\n",
    "from torch.utils.data import DataLoader, Dataset, random_split\n",
    "from torch.utils.data.dataloader import default_collate\n",
    "\n",
    "from torchvision import datasets\n",
    "from torchvision import transforms\n",
    "\n",
    "from torchinfo import summary"
   ],
   "id": "36bff7c0eadb98fd",
   "outputs": [],
   "execution_count": 1
  },
  {
   "metadata": {
    "ExecuteTime": {
     "end_time": "2024-09-25T14:40:35.057249Z",
     "start_time": "2024-09-25T14:40:30.213499Z"
    }
   },
   "cell_type": "code",
   "source": [
    "import albumentations as A\n",
    "import numpy as np\n",
    "import pandas as pd\n",
    "import mlxtend as mle\n",
    "import cv2\n",
    "import matplotlib as mpl\n",
    "import matplotlib.pyplot as plt\n",
    "import seaborn as sns"
   ],
   "id": "1b306b6aa331ed6b",
   "outputs": [],
   "execution_count": 2
  },
  {
   "metadata": {
    "ExecuteTime": {
     "end_time": "2024-09-25T14:40:36.099430Z",
     "start_time": "2024-09-25T14:40:35.060686Z"
    }
   },
   "cell_type": "code",
   "source": [
    "import nguyenpanda\n",
    "from nguyenpanda.swan import color, green, yellow\n",
    "import nguyenpanda.crow as crow\n",
    "from PIL import Image\n",
    "from IPython import display\n",
    "from tqdm.notebook import tqdm\n",
    "from mlxtend.plotting import plot_confusion_matrix\n",
    "from pathlib import Path\n",
    "\n",
    "import os\n",
    "import sys\n",
    "import importlib\n",
    "import random\n",
    "import typing_extensions as te"
   ],
   "id": "d591a27e98e252e9",
   "outputs": [],
   "execution_count": 3
  },
  {
   "metadata": {
    "ExecuteTime": {
     "end_time": "2024-09-25T14:40:42.514160Z",
     "start_time": "2024-09-25T14:40:42.505254Z"
    }
   },
   "cell_type": "code",
   "source": "from autoencoder import AutoencoderCSVDataset, AutoencoderDirValidationDataset",
   "id": "6265db153ffb980b",
   "outputs": [],
   "execution_count": 4
  },
  {
   "metadata": {},
   "cell_type": "markdown",
   "source": "## 0.1. Checking running environment",
   "id": "94e40f87a7d2d5a"
  },
  {
   "metadata": {
    "ExecuteTime": {
     "end_time": "2024-09-25T14:40:44.579941Z",
     "start_time": "2024-09-25T14:40:44.526861Z"
    }
   },
   "cell_type": "code",
   "source": [
    "DEVICE = ('cuda' if torch.cuda.is_available() else\n",
    "          'mps' if torch.backends.mps.is_available() else\n",
    "          'cpu')\n",
    "print('DEVICE:', green(DEVICE))\n",
    "\n",
    "CPUs = os.cpu_count()\n",
    "print('CPUs:', green(CPUs))\n",
    "\n",
    "# print(plt.style.available)\n",
    "plt.style.use('dark_background')\n",
    "\n",
    "IN_COLAB: bool = crow.nbu.is_colab()\n",
    "MY_DRIVE: te.Optional[Path] = crow.gcu.mount_google_drive()"
   ],
   "id": "2a2ec675ecad77ea",
   "outputs": [
    {
     "name": "stdout",
     "output_type": "stream",
     "text": [
      "DEVICE: \u001B[1;92mcpu\u001B[0m\n",
      "CPUs: \u001B[1;92m8\u001B[0m\n"
     ]
    }
   ],
   "execution_count": 5
  },
  {
   "metadata": {},
   "cell_type": "markdown",
   "source": "### Creating a symbolic link (alias) to an exist directory",
   "id": "a9fdb577cb223f2f"
  },
  {
   "metadata": {
    "ExecuteTime": {
     "end_time": "2024-09-25T14:41:17.053339Z",
     "start_time": "2024-09-25T14:41:17.029580Z"
    }
   },
   "cell_type": "code",
   "source": [
    "# For creating a symbolic link (alias) to an existing directory\n",
    "dataset: crow.Dataset = crow.Dataset(\n",
    "    name='MNIST'  # By default: None\n",
    ")\n",
    "\n",
    "dataset: crow.Dataset = dataset.alias(\n",
    "    source=crow.Dataset.bfs_find('MNIST_CSV', search_path=Path.home()),\n",
    "    # By default: `source` is None (if None, alias name is '<dataset-alias-name>' provided at Dataset constructor\n",
    "    # Either `name` or `source` must be provided, else a ValueError is raised. \n",
    "    destination=Path.cwd(),  # By default: Path.cwd()\n",
    "    verbose=True,  # By default: True\n",
    ")\n",
    "\n",
    "DATASET_SOURCE_DIR: Path = dataset.dataset_source_dir"
   ],
   "id": "e9b38b3fac2f0054",
   "outputs": [
    {
     "name": "stdout",
     "output_type": "stream",
     "text": [
      "\u001B[1;92mCreating an alias \u001B[1;94m/Users/hatuongnguyen/datasets/MNIST_CSV\u001B[0m -> \u001B[1;94m/Users/hatuongnguyen/Learning/PyTorch/model/MNIST_ShortCut/MNIST\u001B[0m\u001B[0m\n"
     ]
    }
   ],
   "execution_count": 6
  },
  {
   "metadata": {
    "ExecuteTime": {
     "end_time": "2024-09-25T14:41:19.484019Z",
     "start_time": "2024-09-25T14:41:19.478883Z"
    }
   },
   "cell_type": "code",
   "source": [
    "train_transform = transforms.Compose([\n",
    "    transforms.ToTensor(),\n",
    "])\n",
    "\n",
    "test_transform = transforms.Compose([\n",
    "    transforms.ToTensor(),\n",
    "])"
   ],
   "id": "301a418d7060a54e",
   "outputs": [],
   "execution_count": 7
  },
  {
   "metadata": {
    "ExecuteTime": {
     "end_time": "2024-09-25T14:42:47.670848Z",
     "start_time": "2024-09-25T14:42:42.818802Z"
    }
   },
   "cell_type": "code",
   "source": [
    "train_dataset = AutoencoderCSVDataset(DATASET_SOURCE_DIR / 'train.csv', train_transform)\n",
    "test_dataset = AutoencoderCSVDataset(DATASET_SOURCE_DIR / 'test.csv', test_transform)\n",
    "\n",
    "print(len(train_dataset), len(test_dataset))"
   ],
   "id": "57d33ac4df6f8edf",
   "outputs": [
    {
     "name": "stdout",
     "output_type": "stream",
     "text": [
      "60000 10000\n"
     ]
    }
   ],
   "execution_count": 11
  },
  {
   "metadata": {
    "ExecuteTime": {
     "end_time": "2024-09-25T14:42:49.826158Z",
     "start_time": "2024-09-25T14:42:49.527379Z"
    }
   },
   "cell_type": "code",
   "source": [
    "data = train_dataset[random.randint(0, 10000)]\n",
    "\n",
    "fig = plt.figure(figsize=(10, 5))\n",
    "\n",
    "fig.suptitle('Data from dataset')\n",
    "\n",
    "ax = plt.subplot(1, 2, 1)\n",
    "ax.imshow(data[0].squeeze().to('cpu'), cmap='gray')\n",
    "ax.set_title('Input image')\n",
    "ax.axis('off')\n",
    "\n",
    "ax = plt.subplot(1, 2, 2)\n",
    "ax.imshow(data[1].squeeze().to('cpu'), cmap='gray')\n",
    "ax.set_title('Target image')\n",
    "ax.axis('off')\n",
    "\n",
    "plt.show()"
   ],
   "id": "29519295eb54b829",
   "outputs": [
    {
     "data": {
      "text/plain": [
       "<Figure size 1000x500 with 2 Axes>"
      ],
      "image/png": "[encoded data removed]"
     },
     "metadata": {},
     "output_type": "display_data"
    }
   ],
   "execution_count": 12
  },
  {
   "metadata": {
    "ExecuteTime": {
     "end_time": "2024-09-25T14:43:07.874562Z",
     "start_time": "2024-09-25T14:43:07.827016Z"
    }
   },
   "cell_type": "code",
   "source": [
    "def collate_func(batch_list):\n",
    "    return tuple(_tensor.to(DEVICE) for _tensor in default_collate(batch_list))\n",
    "\n",
    "\n",
    "BATCH_SIZE = 32\n",
    "train_loader = DataLoader(dataset=train_dataset, batch_size=BATCH_SIZE, collate_fn=collate_func)\n",
    "test_loader = DataLoader(dataset=test_dataset, batch_size=BATCH_SIZE, collate_fn=collate_func)\n",
    "\n",
    "batch = next(iter(train_loader))\n",
    "print(type(batch), len(batch))\n",
    "print(batch[0].shape)\n",
    "print(batch[1].shape)"
   ],
   "id": "ad5edf5b0d1776c1",
   "outputs": [
    {
     "name": "stdout",
     "output_type": "stream",
     "text": [
      "<class 'tuple'> 2\n",
      "torch.Size([32, 1, 28, 28])\n",
      "torch.Size([32, 1, 28, 28])\n"
     ]
    }
   ],
   "execution_count": 13
  },
  {
   "metadata": {
    "ExecuteTime": {
     "end_time": "2024-09-25T14:44:12.450749Z",
     "start_time": "2024-09-25T14:44:12.118378Z"
    }
   },
   "cell_type": "code",
   "source": [
    "idx = random.randint(0, 31)\n",
    "\n",
    "fig = plt.figure(figsize=(10, 5))\n",
    "\n",
    "fig.suptitle('Data from dataloader')\n",
    "\n",
    "ax = plt.subplot(1, 2, 1)\n",
    "data = batch[0][idx]\n",
    "ax.imshow(data[0].squeeze().to('cpu'), cmap='gray')\n",
    "ax.set_title('Input image')\n",
    "ax.axis('off')\n",
    "\n",
    "ax = plt.subplot(1, 2, 2)\n",
    "data = batch[1][idx]\n",
    "ax.imshow(data[0].squeeze().to('cpu'), cmap='gray')\n",
    "ax.set_title('Target image')\n",
    "ax.axis('off')\n",
    "\n",
    "plt.show()"
   ],
   "id": "5c60df6507b9edc9",
   "outputs": [
    {
     "data": {
      "text/plain": [
       "<Figure size 1000x500 with 2 Axes>"
      ],
      "image/png": "[encoded data removed]"
     },
     "metadata": {},
     "output_type": "display_data"
    }
   ],
   "execution_count": 14
  },
  {
   "metadata": {
    "ExecuteTime": {
     "end_time": "2024-09-26T04:45:29.562906Z",
     "start_time": "2024-09-26T04:45:29.544236Z"
    }
   },
   "cell_type": "code",
   "source": [
    "class Conv(nn.Module):\n",
    "\n",
    "    def __init__(self, c1, c2, k, s, p):\n",
    "        super().__init__()\n",
    "        self.cv = nn.Sequential(\n",
    "            nn.Conv2d(c1, c2, k, s, p),\n",
    "            nn.BatchNorm2d(c2),\n",
    "            nn.ReLU(),\n",
    "        )\n",
    "\n",
    "    def forward(self, x):\n",
    "        return self.cv(x)\n",
    "\n",
    "\n",
    "class ReNet(nn.Module):\n",
    "    def __init__(self, c1, k, s, p, short_cut=False):\n",
    "        super().__init__()\n",
    "        self.cv1 = Conv(c1=c1, c2=c1, k=k, s=s, p=p)\n",
    "        self.cv2 = Conv(c1=c1, c2=c1, k=k, s=s, p=p)\n",
    "        self.short_cut = short_cut\n",
    "\n",
    "    def forward(self, x):\n",
    "        out = self.cv1(x)\n",
    "        out = self.cv2(out)\n",
    "        return out + x if self.short_cut else out\n",
    "\n",
    "\n",
    "class MNISTAutoencoder(nn.Module):\n",
    "\n",
    "    def __init__(self):\n",
    "        super().__init__()\n",
    "        self.train_call = 0\n",
    "        self.encoder = nn.Sequential(\n",
    "            Conv(1, 64, k=7, s=1, p=3),\n",
    "            ReNet(64, k=3, s=1, p=1, short_cut=True),\n",
    "            Conv(64, 32, k=3, s=2, p=1),\n",
    "            ReNet(32, k=3, s=1, p=1, short_cut=True),\n",
    "            Conv(32, 16, k=3, s=2, p=1),\n",
    "            ReNet(16, k=3, s=1, p=1, short_cut=True),\n",
    "        )\n",
    "        \n",
    "        self.decoder = nn.Sequential(\n",
    "            nn.ConvTranspose2d(16, 32, kernel_size=3, stride=2, padding=1, output_padding=1),\n",
    "            ReNet(32, k=3, s=1, p=1, short_cut=True),\n",
    "            nn.ConvTranspose2d(32, 64, kernel_size=3, stride=2, padding=1, output_padding=1),\n",
    "            ReNet(64, k=3, s=1, p=1, short_cut=True),\n",
    "            nn.ConvTranspose2d(64, 1, kernel_size=7, stride=1, padding=3),\n",
    "            nn.Sigmoid()\n",
    "        )\n",
    "\n",
    "    def forward(self, x):\n",
    "        return self.decoder(self.encoder(x))\n",
    "\n",
    "    def test_step(self, dataloader, loss_function):\n",
    "        total_batch = len(dataloader)\n",
    "        total_loss = 0\n",
    "\n",
    "        self.eval()\n",
    "        with torch.inference_mode():\n",
    "            for b, (x, y) in enumerate(dataloader, 1):\n",
    "                logit = self.forward(x)\n",
    "                loss = loss_function(logit, y)\n",
    "\n",
    "                total_loss += loss.item()\n",
    "        return total_loss / total_batch\n",
    "\n",
    "    def train_step(self, dataloader, loss_function, optimizer):\n",
    "        self.train_call += 1\n",
    "        total_batch = len(dataloader)\n",
    "        b_pad = len(str(total_batch))\n",
    "        total_loss = 0\n",
    "\n",
    "        self.train()\n",
    "        for b, (x, y) in enumerate(dataloader, 1):\n",
    "            logit = self.forward(x)\n",
    "\n",
    "            loss = loss_function(logit, y)\n",
    "            optimizer.zero_grad()\n",
    "            loss.backward()\n",
    "            optimizer.step()\n",
    "\n",
    "            total_loss += loss.item()\n",
    "\n",
    "            text = '{: >{}}/{} | ins_loss = \\033[1;92m{: >10.5f}\\033[0m'\n",
    "            if IN_COLAB:\n",
    "                text = '\\r' + text\n",
    "            else:\n",
    "                text = text + '\\r'\n",
    "            print(text.format(b, b_pad, total_batch, loss.item()), end='')\n",
    "        print()\n",
    "\n",
    "        return total_loss / total_batch\n"
   ],
   "id": "c890c9d0a1cd1c6b",
   "outputs": [],
   "execution_count": 52
  },
  {
   "metadata": {
    "ExecuteTime": {
     "end_time": "2024-09-26T04:45:30.400792Z",
     "start_time": "2024-09-26T04:45:30.148249Z"
    }
   },
   "cell_type": "code",
   "source": [
    "generator = iter(train_loader)\n",
    "test_model = MNISTAutoencoder().to(DEVICE)\n",
    "_x, _y = next(generator)\n",
    "print(green(f'(x, y) shape:'), _x.shape, _y.shape)\n",
    "\n",
    "logit = test_model(_x)\n",
    "logit.shape"
   ],
   "id": "900ace3eb2a967bc",
   "outputs": [
    {
     "name": "stdout",
     "output_type": "stream",
     "text": [
      "\u001B[1;92m(x, y) shape:\u001B[0m torch.Size([32, 1, 28, 28]) torch.Size([32, 1, 28, 28])\n"
     ]
    },
    {
     "data": {
      "text/plain": [
       "torch.Size([32, 1, 28, 28])"
      ]
     },
     "execution_count": 53,
     "metadata": {},
     "output_type": "execute_result"
    }
   ],
   "execution_count": 53
  },
  {
   "metadata": {
    "ExecuteTime": {
     "end_time": "2024-09-26T04:45:31.838985Z",
     "start_time": "2024-09-26T04:45:31.697835Z"
    }
   },
   "cell_type": "code",
   "source": [
    "def wrap_value(value):\n",
    "    return green(f'{value: >8.5f}')\n",
    "\n",
    "\n",
    "EPOCHS = 50\n",
    "LEARNING_RATE = 5e-4\n",
    "HIDDEN_CHANNEL = 40\n",
    "\n",
    "history = dict(train_loss=[], test_loss=[])\n",
    "model = MNISTAutoencoder().to(DEVICE)\n",
    "\n",
    "loss_func = nn.BCEWithLogitsLoss()\n",
    "opti = optim.Adam(params=model.parameters(), lr=LEARNING_RATE)\n",
    "\n",
    "print('EPOCHS:', green(EPOCHS))\n",
    "print('LEARNING_RATE:', green(LEARNING_RATE))\n",
    "print('loss_func:', green(loss_func))\n",
    "print('opti:', green(opti.__class__.__name__))\n",
    "\n",
    "summary(model, input_size=(BATCH_SIZE, 1, 28, 28))"
   ],
   "id": "b2b62623ddb1a8bc",
   "outputs": [
    {
     "name": "stdout",
     "output_type": "stream",
     "text": [
      "EPOCHS: \u001B[1;92m50\u001B[0m\n",
      "LEARNING_RATE: \u001B[1;92m0.0005\u001B[0m\n",
      "loss_func: \u001B[1;92mBCEWithLogitsLoss()\u001B[0m\n",
      "opti: \u001B[1;92mAdam\u001B[0m\n"
     ]
    },
    {
     "data": {
      "text/plain": [
       "===============================================================================================\n",
       "Layer (type:depth-idx)                        Output Shape              Param #\n",
       "===============================================================================================\n",
       "MNISTAutoencoder                              [32, 1, 28, 28]           --\n",
       "├─Sequential: 1-1                             [32, 16, 7, 7]            --\n",
       "│    └─Conv: 2-1                              [32, 64, 28, 28]          --\n",
       "│    │    └─Sequential: 3-1                   [32, 64, 28, 28]          3,328\n",
       "│    └─ReNet: 2-2                             [32, 64, 28, 28]          --\n",
       "│    │    └─Conv: 3-2                         [32, 64, 28, 28]          37,056\n",
       "│    │    └─Conv: 3-3                         [32, 64, 28, 28]          37,056\n",
       "│    └─Conv: 2-3                              [32, 32, 14, 14]          --\n",
       "│    │    └─Sequential: 3-4                   [32, 32, 14, 14]          18,528\n",
       "│    └─ReNet: 2-4                             [32, 32, 14, 14]          --\n",
       "│    │    └─Conv: 3-5                         [32, 32, 14, 14]          9,312\n",
       "│    │    └─Conv: 3-6                         [32, 32, 14, 14]          9,312\n",
       "│    └─Conv: 2-5                              [32, 16, 7, 7]            --\n",
       "│    │    └─Sequential: 3-7                   [32, 16, 7, 7]            4,656\n",
       "│    └─ReNet: 2-6                             [32, 16, 7, 7]            --\n",
       "│    │    └─Conv: 3-8                         [32, 16, 7, 7]            2,352\n",
       "│    │    └─Conv: 3-9                         [32, 16, 7, 7]            2,352\n",
       "├─Sequential: 1-2                             [32, 1, 28, 28]           --\n",
       "│    └─ConvTranspose2d: 2-7                   [32, 32, 14, 14]          4,640\n",
       "│    └─ReNet: 2-8                             [32, 32, 14, 14]          --\n",
       "│    │    └─Conv: 3-10                        [32, 32, 14, 14]          9,312\n",
       "│    │    └─Conv: 3-11                        [32, 32, 14, 14]          9,312\n",
       "│    └─ConvTranspose2d: 2-9                   [32, 64, 28, 28]          18,496\n",
       "│    └─ReNet: 2-10                            [32, 64, 28, 28]          --\n",
       "│    │    └─Conv: 3-12                        [32, 64, 28, 28]          37,056\n",
       "│    │    └─Conv: 3-13                        [32, 64, 28, 28]          37,056\n",
       "│    └─ConvTranspose2d: 2-11                  [32, 1, 28, 28]           3,137\n",
       "│    └─Sigmoid: 2-12                          [32, 1, 28, 28]           --\n",
       "===============================================================================================\n",
       "Total params: 242,961\n",
       "Trainable params: 242,961\n",
       "Non-trainable params: 0\n",
       "Total mult-adds (Units.GIGABYTES): 4.72\n",
       "===============================================================================================\n",
       "Input size (MB): 0.10\n",
       "Forward/backward pass size (MB): 160.36\n",
       "Params size (MB): 0.97\n",
       "Estimated Total Size (MB): 161.43\n",
       "==============================================================================================="
      ]
     },
     "execution_count": 54,
     "metadata": {},
     "output_type": "execute_result"
    }
   ],
   "execution_count": 54
  },
  {
   "metadata": {
    "ExecuteTime": {
     "end_time": "2024-09-26T04:45:37.340641Z",
     "start_time": "2024-09-26T04:45:37.336541Z"
    }
   },
   "cell_type": "code",
   "source": [
    "MODEL_FILE_NAME = 'zip_unzip.pt'\n",
    "MODEL_PATH: Path = Path('/content/drive/MyDrive/Colab Notebooks/zip_unzip') if IN_COLAB else Path(Path.cwd() / 'parameter')"
   ],
   "id": "c7a7f05b801e2030",
   "outputs": [],
   "execution_count": 55
  },
  {
   "metadata": {
    "ExecuteTime": {
     "end_time": "2024-09-26T04:45:52.683196Z",
     "start_time": "2024-09-26T04:45:38.658988Z"
    }
   },
   "cell_type": "code",
   "source": [
    "_max_test_loss: float = -1\n",
    "\n",
    "for e in tqdm(range(1, EPOCHS + 1), desc='Epoch: ', total=EPOCHS):\n",
    "    train_loss = model.train_step(train_loader, loss_func, opti)\n",
    "    test_loss = model.test_step(test_loader, loss_func)\n",
    "    print('train_loss = {} | test_loss = {}'.format(\n",
    "        wrap_value(train_loss), wrap_value(test_loss),\n",
    "    ))\n",
    "\n",
    "    history['train_loss'].append(train_loss)\n",
    "    history['test_loss'].append(test_loss)\n",
    "\n",
    "    if _max_test_loss <= test_loss:\n",
    "        _max_test_loss = test_loss\n",
    "\n",
    "        if not MODEL_PATH.is_dir():\n",
    "            MODEL_PATH.mkdir(parents=True, exist_ok=True)\n",
    "        torch.save(model.state_dict(), MODEL_PATH / MODEL_FILE_NAME)"
   ],
   "id": "586111ef7a372b57",
   "outputs": [
    {
     "data": {
      "text/plain": [
       "Epoch:   0%|          | 0/50 [00:00<?, ?it/s]"
      ],
      "application/vnd.jupyter.widget-view+json": {
       "version_major": 2,
       "version_minor": 0,
       "model_id": "cf801b8a7547437591e1ddf40c6bd587"
      }
     },
     "metadata": {},
     "output_type": "display_data"
    },
    {
     "name": "stdout",
     "output_type": "stream",
     "text": [
      "  41/1875 | ins_loss = \u001B[1;92m   0.67422\u001B[0m\r"
     ]
    },
    {
     "ename": "KeyboardInterrupt",
     "evalue": "",
     "output_type": "error",
     "traceback": [
      "\u001B[0;31m---------------------------------------------------------------------------\u001B[0m",
      "\u001B[0;31mKeyboardInterrupt\u001B[0m                         Traceback (most recent call last)",
      "Cell \u001B[0;32mIn[56], line 4\u001B[0m\n\u001B[1;32m      1\u001B[0m _max_test_loss: \u001B[38;5;28mfloat\u001B[39m \u001B[38;5;241m=\u001B[39m \u001B[38;5;241m-\u001B[39m\u001B[38;5;241m1\u001B[39m\n\u001B[1;32m      3\u001B[0m \u001B[38;5;28;01mfor\u001B[39;00m e \u001B[38;5;129;01min\u001B[39;00m tqdm(\u001B[38;5;28mrange\u001B[39m(\u001B[38;5;241m1\u001B[39m, EPOCHS \u001B[38;5;241m+\u001B[39m \u001B[38;5;241m1\u001B[39m), desc\u001B[38;5;241m=\u001B[39m\u001B[38;5;124m'\u001B[39m\u001B[38;5;124mEpoch: \u001B[39m\u001B[38;5;124m'\u001B[39m, total\u001B[38;5;241m=\u001B[39mEPOCHS):\n\u001B[0;32m----> 4\u001B[0m     train_loss \u001B[38;5;241m=\u001B[39m \u001B[43mmodel\u001B[49m\u001B[38;5;241;43m.\u001B[39;49m\u001B[43mtrain_step\u001B[49m\u001B[43m(\u001B[49m\u001B[43mtrain_loader\u001B[49m\u001B[43m,\u001B[49m\u001B[43m \u001B[49m\u001B[43mloss_func\u001B[49m\u001B[43m,\u001B[49m\u001B[43m \u001B[49m\u001B[43mopti\u001B[49m\u001B[43m)\u001B[49m\n\u001B[1;32m      5\u001B[0m     test_loss \u001B[38;5;241m=\u001B[39m model\u001B[38;5;241m.\u001B[39mtest_step(test_loader, loss_func)\n\u001B[1;32m      6\u001B[0m     \u001B[38;5;28mprint\u001B[39m(\u001B[38;5;124m'\u001B[39m\u001B[38;5;124mtrain_loss = \u001B[39m\u001B[38;5;132;01m{}\u001B[39;00m\u001B[38;5;124m | test_loss = \u001B[39m\u001B[38;5;132;01m{}\u001B[39;00m\u001B[38;5;124m'\u001B[39m\u001B[38;5;241m.\u001B[39mformat(\n\u001B[1;32m      7\u001B[0m         wrap_value(train_loss), wrap_value(test_loss),\n\u001B[1;32m      8\u001B[0m     ))\n",
      "Cell \u001B[0;32mIn[52], line 79\u001B[0m, in \u001B[0;36mMNISTAutoencoder.train_step\u001B[0;34m(self, dataloader, loss_function, optimizer)\u001B[0m\n\u001B[1;32m     77\u001B[0m loss \u001B[38;5;241m=\u001B[39m loss_function(logit, y)\n\u001B[1;32m     78\u001B[0m optimizer\u001B[38;5;241m.\u001B[39mzero_grad()\n\u001B[0;32m---> 79\u001B[0m \u001B[43mloss\u001B[49m\u001B[38;5;241;43m.\u001B[39;49m\u001B[43mbackward\u001B[49m\u001B[43m(\u001B[49m\u001B[43m)\u001B[49m\n\u001B[1;32m     80\u001B[0m optimizer\u001B[38;5;241m.\u001B[39mstep()\n\u001B[1;32m     82\u001B[0m total_loss \u001B[38;5;241m+\u001B[39m\u001B[38;5;241m=\u001B[39m loss\u001B[38;5;241m.\u001B[39mitem()\n",
      "File \u001B[0;32m~/Learning/PyTorch/.venv/lib/python3.11/site-packages/torch/_tensor.py:522\u001B[0m, in \u001B[0;36mTensor.backward\u001B[0;34m(self, gradient, retain_graph, create_graph, inputs)\u001B[0m\n\u001B[1;32m    512\u001B[0m \u001B[38;5;28;01mif\u001B[39;00m has_torch_function_unary(\u001B[38;5;28mself\u001B[39m):\n\u001B[1;32m    513\u001B[0m     \u001B[38;5;28;01mreturn\u001B[39;00m handle_torch_function(\n\u001B[1;32m    514\u001B[0m         Tensor\u001B[38;5;241m.\u001B[39mbackward,\n\u001B[1;32m    515\u001B[0m         (\u001B[38;5;28mself\u001B[39m,),\n\u001B[0;32m   (...)\u001B[0m\n\u001B[1;32m    520\u001B[0m         inputs\u001B[38;5;241m=\u001B[39minputs,\n\u001B[1;32m    521\u001B[0m     )\n\u001B[0;32m--> 522\u001B[0m \u001B[43mtorch\u001B[49m\u001B[38;5;241;43m.\u001B[39;49m\u001B[43mautograd\u001B[49m\u001B[38;5;241;43m.\u001B[39;49m\u001B[43mbackward\u001B[49m\u001B[43m(\u001B[49m\n\u001B[1;32m    523\u001B[0m \u001B[43m    \u001B[49m\u001B[38;5;28;43mself\u001B[39;49m\u001B[43m,\u001B[49m\u001B[43m \u001B[49m\u001B[43mgradient\u001B[49m\u001B[43m,\u001B[49m\u001B[43m \u001B[49m\u001B[43mretain_graph\u001B[49m\u001B[43m,\u001B[49m\u001B[43m \u001B[49m\u001B[43mcreate_graph\u001B[49m\u001B[43m,\u001B[49m\u001B[43m \u001B[49m\u001B[43minputs\u001B[49m\u001B[38;5;241;43m=\u001B[39;49m\u001B[43minputs\u001B[49m\n\u001B[1;32m    524\u001B[0m \u001B[43m\u001B[49m\u001B[43m)\u001B[49m\n",
      "File \u001B[0;32m~/Learning/PyTorch/.venv/lib/python3.11/site-packages/torch/autograd/__init__.py:266\u001B[0m, in \u001B[0;36mbackward\u001B[0;34m(tensors, grad_tensors, retain_graph, create_graph, grad_variables, inputs)\u001B[0m\n\u001B[1;32m    261\u001B[0m     retain_graph \u001B[38;5;241m=\u001B[39m create_graph\n\u001B[1;32m    263\u001B[0m \u001B[38;5;66;03m# The reason we repeat the same comment below is that\u001B[39;00m\n\u001B[1;32m    264\u001B[0m \u001B[38;5;66;03m# some Python versions print out the first line of a multi-line function\u001B[39;00m\n\u001B[1;32m    265\u001B[0m \u001B[38;5;66;03m# calls in the traceback and some print out the last line\u001B[39;00m\n\u001B[0;32m--> 266\u001B[0m \u001B[43mVariable\u001B[49m\u001B[38;5;241;43m.\u001B[39;49m\u001B[43m_execution_engine\u001B[49m\u001B[38;5;241;43m.\u001B[39;49m\u001B[43mrun_backward\u001B[49m\u001B[43m(\u001B[49m\u001B[43m  \u001B[49m\u001B[38;5;66;43;03m# Calls into the C++ engine to run the backward pass\u001B[39;49;00m\n\u001B[1;32m    267\u001B[0m \u001B[43m    \u001B[49m\u001B[43mtensors\u001B[49m\u001B[43m,\u001B[49m\n\u001B[1;32m    268\u001B[0m \u001B[43m    \u001B[49m\u001B[43mgrad_tensors_\u001B[49m\u001B[43m,\u001B[49m\n\u001B[1;32m    269\u001B[0m \u001B[43m    \u001B[49m\u001B[43mretain_graph\u001B[49m\u001B[43m,\u001B[49m\n\u001B[1;32m    270\u001B[0m \u001B[43m    \u001B[49m\u001B[43mcreate_graph\u001B[49m\u001B[43m,\u001B[49m\n\u001B[1;32m    271\u001B[0m \u001B[43m    \u001B[49m\u001B[43minputs\u001B[49m\u001B[43m,\u001B[49m\n\u001B[1;32m    272\u001B[0m \u001B[43m    \u001B[49m\u001B[43mallow_unreachable\u001B[49m\u001B[38;5;241;43m=\u001B[39;49m\u001B[38;5;28;43;01mTrue\u001B[39;49;00m\u001B[43m,\u001B[49m\n\u001B[1;32m    273\u001B[0m \u001B[43m    \u001B[49m\u001B[43maccumulate_grad\u001B[49m\u001B[38;5;241;43m=\u001B[39;49m\u001B[38;5;28;43;01mTrue\u001B[39;49;00m\u001B[43m,\u001B[49m\n\u001B[1;32m    274\u001B[0m \u001B[43m\u001B[49m\u001B[43m)\u001B[49m\n",
      "\u001B[0;31mKeyboardInterrupt\u001B[0m: "
     ]
    }
   ],
   "execution_count": 56
  },
  {
   "metadata": {},
   "cell_type": "code",
   "outputs": [],
   "execution_count": null,
   "source": "",
   "id": "e2be0ffd92fe36f0"
  }
 ],
 "metadata": {
  "kernelspec": {
   "display_name": "Python 3",
   "language": "python",
   "name": "python3"
  },
  "language_info": {
   "codemirror_mode": {
    "name": "ipython",
    "version": 2
   },
   "file_extension": ".py",
   "mimetype": "text/x-python",
   "name": "python",
   "nbconvert_exporter": "python",
   "pygments_lexer": "ipython2",
   "version": "2.7.6"
  }
 },
 "nbformat": 4,
 "nbformat_minor": 5
}
