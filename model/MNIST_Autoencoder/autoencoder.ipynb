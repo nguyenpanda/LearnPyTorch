{
 "cells": [
  {
   "cell_type": "code",
   "id": "initial_id",
   "metadata": {
    "collapsed": true,
    "ExecuteTime": {
     "end_time": "2024-08-26T07:10:01.538208Z",
     "start_time": "2024-08-26T07:09:55.064388Z"
    }
   },
   "source": [
    "import torch\n",
    "from torch import nn, optim\n",
    "from torch.utils.data import DataLoader\n",
    "from torch.utils.data.dataloader import default_collate\n",
    "from torchinfo import summary\n",
    "from torchvision import transforms\n",
    "\n",
    "from autoencoder import AutoencoderCSVDataset, AutoencoderDirValidationDataset, MNISTAutoencoder"
   ],
   "outputs": [],
   "execution_count": 1
  },
  {
   "metadata": {
    "ExecuteTime": {
     "end_time": "2024-08-26T07:10:01.648652Z",
     "start_time": "2024-08-26T07:10:01.543651Z"
    }
   },
   "cell_type": "code",
   "source": [
    "import matplotlib.pyplot as plt\n",
    "\n",
    "import random\n",
    "\n",
    "from tqdm.notebook import tqdm\n",
    "from nguyenpanda.swan import green\n",
    "import nguyenpanda.crow as crow\n",
    "\n",
    "from pathlib import Path"
   ],
   "id": "c3f6b79cd8ee0349",
   "execution_count": 2,
   "outputs": []
  },
  {
   "metadata": {
    "ExecuteTime": {
     "end_time": "2024-08-26T07:10:01.692413Z",
     "start_time": "2024-08-26T07:10:01.650754Z"
    }
   },
   "cell_type": "code",
   "source": [
    "plt.style.use('dark_background')\n",
    "\n",
    "DEVICE = ('cuda' if torch.cuda.is_available() else\n",
    "          'mps' if torch.backends.mps.is_available() else\n",
    "          'cpu')\n",
    "print(green(DEVICE))\n",
    "\n",
    "IN_COLAB = crow.nb_utils.is_colab()\n",
    "print(green(IN_COLAB))"
   ],
   "id": "af07024c93ca82a7",
   "outputs": [
    {
     "name": "stdout",
     "output_type": "stream",
     "text": [
      "\u001B[1;92mcpu\u001B[0m\n",
      "\u001B[1;92mFalse\u001B[0m\n"
     ]
    }
   ],
   "execution_count": 3
  },
  {
   "metadata": {
    "ExecuteTime": {
     "end_time": "2024-08-26T07:10:01.702543Z",
     "start_time": "2024-08-26T07:10:01.695154Z"
    }
   },
   "cell_type": "code",
   "source": "dataset = crow.Dataset('MNIST').alias('/Users/hatuongnguyen/datasets/MNIST_CSV')",
   "id": "d2cac016b808bc24",
   "outputs": [
    {
     "name": "stdout",
     "output_type": "stream",
     "text": [
      "\u001B[1;93mDirectory \"\u001B[1;92m/Users/hatuongnguyen/Learning/PyTorch/model/MNIST_Autoencoder/MNIST\u001B[1;93m\" already exists!\u001B[0m\n"
     ]
    }
   ],
   "execution_count": 4
  },
  {
   "metadata": {
    "ExecuteTime": {
     "end_time": "2024-08-26T07:10:05.589911Z",
     "start_time": "2024-08-26T07:10:01.708316Z"
    }
   },
   "cell_type": "code",
   "source": [
    "train_transform = transforms.Compose([\n",
    "    transforms.ToTensor(),\n",
    "])\n",
    "\n",
    "test_transform = transforms.Compose([\n",
    "    transforms.ToTensor(),\n",
    "])\n",
    "\n",
    "train_dataset = AutoencoderCSVDataset(dataset / 'train.csv', train_transform)\n",
    "test_dataset = AutoencoderCSVDataset(dataset / 'test.csv', test_transform)\n",
    "\n",
    "print(len(train_dataset), len(test_dataset))"
   ],
   "id": "4659bb4047e329eb",
   "outputs": [
    {
     "name": "stdout",
     "output_type": "stream",
     "text": [
      "60000 10000\n"
     ]
    }
   ],
   "execution_count": 5
  },
  {
   "metadata": {
    "ExecuteTime": {
     "end_time": "2024-08-26T07:10:05.802075Z",
     "start_time": "2024-08-26T07:10:05.591866Z"
    }
   },
   "cell_type": "code",
   "source": [
    "data = train_dataset[random.randint(0, 10000)]\n",
    "\n",
    "fig = plt.figure(figsize=(10, 5))\n",
    "\n",
    "fig.suptitle('Data from dataset')\n",
    "\n",
    "ax = plt.subplot(1, 2, 1)\n",
    "ax.imshow(data[0].squeeze().to('cpu'), cmap='gray')\n",
    "ax.set_title('Input image')\n",
    "ax.axis('off')\n",
    "\n",
    "ax = plt.subplot(1, 2, 2)\n",
    "ax.imshow(data[1].squeeze().to('cpu'), cmap='gray')\n",
    "ax.set_title('Target image')\n",
    "ax.axis('off')\n",
    "\n",
    "plt.show()"
   ],
   "id": "8a669463dda00893",
   "outputs": [
    {
     "data": {
      "text/plain": [
       "<Figure size 1000x500 with 2 Axes>"
      ],
      "image/png": "[encoded data removed]"
     },
     "metadata": {},
     "output_type": "display_data"
    }
   ],
   "execution_count": 6
  },
  {
   "metadata": {
    "ExecuteTime": {
     "end_time": "2024-08-26T07:10:14.841161Z",
     "start_time": "2024-08-26T07:10:14.822518Z"
    }
   },
   "cell_type": "code",
   "source": [
    "def collate_func(batch_list):\n",
    "    return tuple(_tensor.to(DEVICE) for _tensor in default_collate(batch_list))\n",
    "\n",
    "\n",
    "BATCH_SIZE = 32\n",
    "train_loader = DataLoader(dataset=train_dataset, batch_size=BATCH_SIZE, collate_fn=collate_func)\n",
    "test_loader = DataLoader(dataset=test_dataset, batch_size=BATCH_SIZE, collate_fn=collate_func)\n",
    "\n",
    "batch = next(iter(train_loader))\n",
    "print(type(batch), len(batch))\n",
    "print(batch[0].shape)\n",
    "print(batch[1].shape)"
   ],
   "id": "e2772b03057496b4",
   "outputs": [
    {
     "name": "stdout",
     "output_type": "stream",
     "text": [
      "<class 'tuple'> 2\n",
      "torch.Size([32, 1, 28, 28])\n",
      "torch.Size([32, 1, 28, 28])\n"
     ]
    }
   ],
   "execution_count": 7
  },
  {
   "metadata": {
    "ExecuteTime": {
     "end_time": "2024-08-26T07:10:16.075375Z",
     "start_time": "2024-08-26T07:10:15.891497Z"
    }
   },
   "cell_type": "code",
   "source": [
    "idx = random.randint(0, 31)\n",
    "\n",
    "fig = plt.figure(figsize=(10, 5))\n",
    "\n",
    "fig.suptitle('Data from dataloader')\n",
    "\n",
    "ax = plt.subplot(1, 2, 1)\n",
    "data = batch[0][idx]\n",
    "ax.imshow(data[0].squeeze().to('cpu'), cmap='gray')\n",
    "ax.set_title('Input image')\n",
    "ax.axis('off')\n",
    "\n",
    "ax = plt.subplot(1, 2, 2)\n",
    "data = batch[1][idx]\n",
    "ax.imshow(data[0].squeeze().to('cpu'), cmap='gray')\n",
    "ax.set_title('Target image')\n",
    "ax.axis('off')\n",
    "\n",
    "plt.show()"
   ],
   "id": "96a3a8dd883df578",
   "outputs": [
    {
     "data": {
      "text/plain": [
       "<Figure size 1000x500 with 2 Axes>"
      ],
      "image/png": "[encoded data removed]"
     },
     "metadata": {},
     "output_type": "display_data"
    }
   ],
   "execution_count": 8
  },
  {
   "metadata": {
    "ExecuteTime": {
     "end_time": "2024-08-26T07:10:16.991747Z",
     "start_time": "2024-08-26T07:10:16.946626Z"
    }
   },
   "cell_type": "code",
   "source": [
    "def wrap_value(value):\n",
    "    return green(f'{value: >8.5f}')\n",
    "\n",
    "\n",
    "EPOCHS = 50\n",
    "LEARNING_RATE = 5e-4\n",
    "HIDDEN_CHANNEL = 40\n",
    "\n",
    "history = dict(train_loss=[], test_loss=[])\n",
    "model = MNISTAutoencoder().to(DEVICE)\n",
    "\n",
    "loss_func = nn.BCEWithLogitsLoss()\n",
    "opti = optim.Adam(params=model.parameters(), lr=LEARNING_RATE)\n",
    "\n",
    "print('EPOCHS:', green(EPOCHS))\n",
    "print('LEARNING_RATE:', green(LEARNING_RATE))\n",
    "print('loss_func:', green(loss_func))\n",
    "print('opti:', green(opti.__class__.__name__))\n",
    "\n",
    "summary(model, input_size=(BATCH_SIZE, 1, 28, 28))"
   ],
   "id": "83470ce43635e175",
   "outputs": [
    {
     "name": "stdout",
     "output_type": "stream",
     "text": [
      "EPOCHS: \u001B[1;92m50\u001B[0m\n",
      "LEARNING_RATE: \u001B[1;92m0.0005\u001B[0m\n",
      "loss_func: \u001B[1;92mBCEWithLogitsLoss()\u001B[0m\n",
      "opti: \u001B[1;92mAdam\u001B[0m\n"
     ]
    },
    {
     "data": {
      "text/plain": [
       "==========================================================================================\n",
       "Layer (type:depth-idx)                   Output Shape              Param #\n",
       "==========================================================================================\n",
       "MNISTAutoencoder                         [32, 1, 28, 28]           --\n",
       "├─Sequential: 1-1                        [32, 128, 7, 7]           --\n",
       "│    └─Conv2d: 2-1                       [32, 32, 28, 28]          320\n",
       "│    └─ReLU: 2-2                         [32, 32, 28, 28]          --\n",
       "│    └─MaxPool2d: 2-3                    [32, 32, 14, 14]          --\n",
       "│    └─Conv2d: 2-4                       [32, 64, 14, 14]          18,496\n",
       "│    └─ReLU: 2-5                         [32, 64, 14, 14]          --\n",
       "│    └─MaxPool2d: 2-6                    [32, 64, 7, 7]            --\n",
       "│    └─Conv2d: 2-7                       [32, 128, 7, 7]           73,856\n",
       "├─Sequential: 1-2                        [32, 1, 28, 28]           --\n",
       "│    └─Conv2d: 2-8                       [32, 64, 7, 7]            73,792\n",
       "│    └─ReLU: 2-9                         [32, 64, 7, 7]            --\n",
       "│    └─Upsample: 2-10                    [32, 64, 14, 14]          --\n",
       "│    └─Conv2d: 2-11                      [32, 32, 14, 14]          18,464\n",
       "│    └─ReLU: 2-12                        [32, 32, 14, 14]          --\n",
       "│    └─Upsample: 2-13                    [32, 32, 28, 28]          --\n",
       "│    └─Conv2d: 2-14                      [32, 1, 28, 28]           289\n",
       "==========================================================================================\n",
       "Total params: 185,217\n",
       "Trainable params: 185,217\n",
       "Non-trainable params: 0\n",
       "Total mult-adds (Units.MEGABYTES): 478.60\n",
       "==========================================================================================\n",
       "Input size (MB): 0.10\n",
       "Forward/backward pass size (MB): 13.85\n",
       "Params size (MB): 0.74\n",
       "Estimated Total Size (MB): 14.69\n",
       "=========================================================================================="
      ]
     },
     "execution_count": 9,
     "metadata": {},
     "output_type": "execute_result"
    }
   ],
   "execution_count": 9
  },
  {
   "metadata": {
    "ExecuteTime": {
     "end_time": "2024-08-26T07:10:21.195986Z",
     "start_time": "2024-08-26T07:10:18.658725Z"
    }
   },
   "cell_type": "code",
   "source": [
    "MODEL_FILE_NAME = 'zip_unzip.pt'\n",
    "MODEL_PATH: Path = Path('/content/drive/MyDrive/Colab Notebooks/zip_unzip') if IN_COLAB else Path(Path.cwd() / 'parameter')\n",
    "\n",
    "_max_test_loss: float = -1\n",
    "\n",
    "for e in tqdm(range(1, EPOCHS + 1), desc='Epoch: ', total=EPOCHS):\n",
    "    train_loss = model.train_step(train_loader, loss_func, opti)\n",
    "    test_loss = model.test_step(test_loader, loss_func)\n",
    "    print('train_loss = {} | test_loss = {}'.format(\n",
    "        wrap_value(train_loss), wrap_value(test_loss),\n",
    "    ))\n",
    "\n",
    "    history['train_loss'].append(train_loss)\n",
    "    history['test_loss'].append(test_loss)\n",
    "\n",
    "    if _max_test_loss <= test_loss:\n",
    "        _max_test_loss = test_loss\n",
    "\n",
    "        if not MODEL_PATH.is_dir():\n",
    "            MODEL_PATH.mkdir(parents=True, exist_ok=True)\n",
    "        torch.save(model.state_dict(), MODEL_PATH / MODEL_FILE_NAME)"
   ],
   "id": "e685208e91ef1010",
   "outputs": [
    {
     "data": {
      "text/plain": [
       "Epoch:   0%|          | 0/50 [00:00<?, ?it/s]"
      ],
      "application/vnd.jupyter.widget-view+json": {
       "version_major": 2,
       "version_minor": 0,
       "model_id": "69e09d57b4ca4bd1aad0ae48b77f91f0"
      }
     },
     "metadata": {},
     "output_type": "display_data"
    },
    {
     "name": "stdout",
     "output_type": "stream",
     "text": [
      "  34/1875 | ins_loss = \u001B[1;92m   0.27876\u001B[0m\r"
     ]
    },
    {
     "ename": "KeyboardInterrupt",
     "evalue": "",
     "output_type": "error",
     "traceback": [
      "\u001B[0;31m---------------------------------------------------------------------------\u001B[0m",
      "\u001B[0;31mKeyboardInterrupt\u001B[0m                         Traceback (most recent call last)",
      "Cell \u001B[0;32mIn[10], line 7\u001B[0m\n\u001B[1;32m      4\u001B[0m _max_test_loss: \u001B[38;5;28mfloat\u001B[39m \u001B[38;5;241m=\u001B[39m \u001B[38;5;241m-\u001B[39m\u001B[38;5;241m1\u001B[39m\n\u001B[1;32m      6\u001B[0m \u001B[38;5;28;01mfor\u001B[39;00m e \u001B[38;5;129;01min\u001B[39;00m tqdm(\u001B[38;5;28mrange\u001B[39m(\u001B[38;5;241m1\u001B[39m, EPOCHS \u001B[38;5;241m+\u001B[39m \u001B[38;5;241m1\u001B[39m), desc\u001B[38;5;241m=\u001B[39m\u001B[38;5;124m'\u001B[39m\u001B[38;5;124mEpoch: \u001B[39m\u001B[38;5;124m'\u001B[39m, total\u001B[38;5;241m=\u001B[39mEPOCHS):\n\u001B[0;32m----> 7\u001B[0m     train_loss \u001B[38;5;241m=\u001B[39m \u001B[43mmodel\u001B[49m\u001B[38;5;241;43m.\u001B[39;49m\u001B[43mtrain_step\u001B[49m\u001B[43m(\u001B[49m\u001B[43mtrain_loader\u001B[49m\u001B[43m,\u001B[49m\u001B[43m \u001B[49m\u001B[43mloss_func\u001B[49m\u001B[43m,\u001B[49m\u001B[43m \u001B[49m\u001B[43mopti\u001B[49m\u001B[43m)\u001B[49m\n\u001B[1;32m      8\u001B[0m     test_loss \u001B[38;5;241m=\u001B[39m model\u001B[38;5;241m.\u001B[39mtest_step(test_loader, loss_func)\n\u001B[1;32m      9\u001B[0m     \u001B[38;5;28mprint\u001B[39m(\u001B[38;5;124m'\u001B[39m\u001B[38;5;124mtrain_loss = \u001B[39m\u001B[38;5;132;01m{}\u001B[39;00m\u001B[38;5;124m | test_loss = \u001B[39m\u001B[38;5;132;01m{}\u001B[39;00m\u001B[38;5;124m'\u001B[39m\u001B[38;5;241m.\u001B[39mformat(\n\u001B[1;32m     10\u001B[0m         wrap_value(train_loss), wrap_value(test_loss),\n\u001B[1;32m     11\u001B[0m     ))\n",
      "File \u001B[0;32m~/Learning/PyTorch/model/MNIST_Autoencoder/autoencoder/model.py:65\u001B[0m, in \u001B[0;36mMNISTAutoencoder.train_step\u001B[0;34m(self, dataloader, loss_function, optimizer)\u001B[0m\n\u001B[1;32m     63\u001B[0m loss \u001B[38;5;241m=\u001B[39m loss_function(logit, y)\n\u001B[1;32m     64\u001B[0m optimizer\u001B[38;5;241m.\u001B[39mzero_grad()\n\u001B[0;32m---> 65\u001B[0m \u001B[43mloss\u001B[49m\u001B[38;5;241;43m.\u001B[39;49m\u001B[43mbackward\u001B[49m\u001B[43m(\u001B[49m\u001B[43m)\u001B[49m\n\u001B[1;32m     66\u001B[0m optimizer\u001B[38;5;241m.\u001B[39mstep()\n\u001B[1;32m     68\u001B[0m total_loss \u001B[38;5;241m+\u001B[39m\u001B[38;5;241m=\u001B[39m loss\u001B[38;5;241m.\u001B[39mitem()\n",
      "File \u001B[0;32m~/Learning/PyTorch/.venv/lib/python3.11/site-packages/torch/_tensor.py:522\u001B[0m, in \u001B[0;36mTensor.backward\u001B[0;34m(self, gradient, retain_graph, create_graph, inputs)\u001B[0m\n\u001B[1;32m    512\u001B[0m \u001B[38;5;28;01mif\u001B[39;00m has_torch_function_unary(\u001B[38;5;28mself\u001B[39m):\n\u001B[1;32m    513\u001B[0m     \u001B[38;5;28;01mreturn\u001B[39;00m handle_torch_function(\n\u001B[1;32m    514\u001B[0m         Tensor\u001B[38;5;241m.\u001B[39mbackward,\n\u001B[1;32m    515\u001B[0m         (\u001B[38;5;28mself\u001B[39m,),\n\u001B[0;32m   (...)\u001B[0m\n\u001B[1;32m    520\u001B[0m         inputs\u001B[38;5;241m=\u001B[39minputs,\n\u001B[1;32m    521\u001B[0m     )\n\u001B[0;32m--> 522\u001B[0m \u001B[43mtorch\u001B[49m\u001B[38;5;241;43m.\u001B[39;49m\u001B[43mautograd\u001B[49m\u001B[38;5;241;43m.\u001B[39;49m\u001B[43mbackward\u001B[49m\u001B[43m(\u001B[49m\n\u001B[1;32m    523\u001B[0m \u001B[43m    \u001B[49m\u001B[38;5;28;43mself\u001B[39;49m\u001B[43m,\u001B[49m\u001B[43m \u001B[49m\u001B[43mgradient\u001B[49m\u001B[43m,\u001B[49m\u001B[43m \u001B[49m\u001B[43mretain_graph\u001B[49m\u001B[43m,\u001B[49m\u001B[43m \u001B[49m\u001B[43mcreate_graph\u001B[49m\u001B[43m,\u001B[49m\u001B[43m \u001B[49m\u001B[43minputs\u001B[49m\u001B[38;5;241;43m=\u001B[39;49m\u001B[43minputs\u001B[49m\n\u001B[1;32m    524\u001B[0m \u001B[43m\u001B[49m\u001B[43m)\u001B[49m\n",
      "File \u001B[0;32m~/Learning/PyTorch/.venv/lib/python3.11/site-packages/torch/autograd/__init__.py:266\u001B[0m, in \u001B[0;36mbackward\u001B[0;34m(tensors, grad_tensors, retain_graph, create_graph, grad_variables, inputs)\u001B[0m\n\u001B[1;32m    261\u001B[0m     retain_graph \u001B[38;5;241m=\u001B[39m create_graph\n\u001B[1;32m    263\u001B[0m \u001B[38;5;66;03m# The reason we repeat the same comment below is that\u001B[39;00m\n\u001B[1;32m    264\u001B[0m \u001B[38;5;66;03m# some Python versions print out the first line of a multi-line function\u001B[39;00m\n\u001B[1;32m    265\u001B[0m \u001B[38;5;66;03m# calls in the traceback and some print out the last line\u001B[39;00m\n\u001B[0;32m--> 266\u001B[0m \u001B[43mVariable\u001B[49m\u001B[38;5;241;43m.\u001B[39;49m\u001B[43m_execution_engine\u001B[49m\u001B[38;5;241;43m.\u001B[39;49m\u001B[43mrun_backward\u001B[49m\u001B[43m(\u001B[49m\u001B[43m  \u001B[49m\u001B[38;5;66;43;03m# Calls into the C++ engine to run the backward pass\u001B[39;49;00m\n\u001B[1;32m    267\u001B[0m \u001B[43m    \u001B[49m\u001B[43mtensors\u001B[49m\u001B[43m,\u001B[49m\n\u001B[1;32m    268\u001B[0m \u001B[43m    \u001B[49m\u001B[43mgrad_tensors_\u001B[49m\u001B[43m,\u001B[49m\n\u001B[1;32m    269\u001B[0m \u001B[43m    \u001B[49m\u001B[43mretain_graph\u001B[49m\u001B[43m,\u001B[49m\n\u001B[1;32m    270\u001B[0m \u001B[43m    \u001B[49m\u001B[43mcreate_graph\u001B[49m\u001B[43m,\u001B[49m\n\u001B[1;32m    271\u001B[0m \u001B[43m    \u001B[49m\u001B[43minputs\u001B[49m\u001B[43m,\u001B[49m\n\u001B[1;32m    272\u001B[0m \u001B[43m    \u001B[49m\u001B[43mallow_unreachable\u001B[49m\u001B[38;5;241;43m=\u001B[39;49m\u001B[38;5;28;43;01mTrue\u001B[39;49;00m\u001B[43m,\u001B[49m\n\u001B[1;32m    273\u001B[0m \u001B[43m    \u001B[49m\u001B[43maccumulate_grad\u001B[49m\u001B[38;5;241;43m=\u001B[39;49m\u001B[38;5;28;43;01mTrue\u001B[39;49;00m\u001B[43m,\u001B[49m\n\u001B[1;32m    274\u001B[0m \u001B[43m\u001B[49m\u001B[43m)\u001B[49m\n",
      "\u001B[0;31mKeyboardInterrupt\u001B[0m: "
     ]
    }
   ],
   "execution_count": 10
  },
  {
   "metadata": {
    "ExecuteTime": {
     "end_time": "2024-08-26T07:10:22.235635Z",
     "start_time": "2024-08-26T07:10:22.215656Z"
    }
   },
   "cell_type": "code",
   "source": [
    "print(MODEL_PATH)\n",
    "\n",
    "model_load = MNISTAutoencoder().to(DEVICE)\n",
    "model_load.load_state_dict(torch.load(MODEL_PATH / 'google_colab.pt', map_location=torch.device('cpu')))"
   ],
   "id": "400bf4bbba44643f",
   "outputs": [
    {
     "name": "stdout",
     "output_type": "stream",
     "text": [
      "/Users/hatuongnguyen/Learning/PyTorch/model/MNIST_Autoencoder/parameter\n"
     ]
    },
    {
     "data": {
      "text/plain": [
       "<All keys matched successfully>"
      ]
     },
     "execution_count": 11,
     "metadata": {},
     "output_type": "execute_result"
    }
   ],
   "execution_count": 11
  },
  {
   "metadata": {
    "ExecuteTime": {
     "end_time": "2024-08-26T07:10:25.995436Z",
     "start_time": "2024-08-26T07:10:22.782323Z"
    }
   },
   "cell_type": "code",
   "source": [
    "data = [(x, y) for x, y in test_loader]\n",
    "batch = random.randint(0, len(test_loader) - 1)\n",
    "idx = random.randint(0, BATCH_SIZE - 1)\n",
    "\n",
    "x, y = data[batch]\n",
    "\n",
    "plt.figure(figsize=(20, 5))\n",
    "\n",
    "ax = plt.subplot(1, 5, 1)\n",
    "miss = x[idx]\n",
    "ax.imshow(miss[0].squeeze().to('cpu'), cmap='gray')\n",
    "ax.axis('off')\n",
    "ax.set_title('Input image')\n",
    "\n",
    "ax = plt.subplot(1, 5, 2)\n",
    "tar = y[idx]\n",
    "ax.imshow(tar[0].squeeze().to('cpu'), cmap='gray')\n",
    "ax.axis('off')\n",
    "ax.set_title('Target image')\n",
    "\n",
    "ax = plt.subplot(1, 5, 3)\n",
    "model_load.eval()\n",
    "with torch.inference_mode():\n",
    "    output = model_load(x[idx].unsqueeze(dim=0))\n",
    "ax.imshow(output.squeeze().to('cpu'), cmap='gray')\n",
    "ax.axis('off')\n",
    "ax.set_title('Output image (logit value)')\n",
    "\n",
    "ax = plt.subplot(1, 5, 4)\n",
    "output = torch.sigmoid(output)\n",
    "ax.imshow(output.squeeze().to('cpu'), cmap='gray')\n",
    "ax.axis('off')\n",
    "ax.set_title('Final image\\n(After passing through sigmoid)')\n",
    "\n",
    "ax = plt.subplot(1, 5, 5)\n",
    "delta = output - miss\n",
    "ax.imshow(delta.squeeze().to('cpu'), cmap='inferno')\n",
    "ax.axis('off')\n",
    "ax.set_title('Output image minus Final image')\n",
    "\n",
    "plt.show()"
   ],
   "id": "da3908fc6e34f45b",
   "outputs": [
    {
     "data": {
      "text/plain": [
       "<Figure size 2000x500 with 5 Axes>"
      ],
      "image/png": "[encoded data removed]"
     },
     "metadata": {},
     "output_type": "display_data"
    }
   ],
   "execution_count": 12
  },
  {
   "metadata": {
    "ExecuteTime": {
     "end_time": "2024-08-26T07:10:27.749630Z",
     "start_time": "2024-08-26T07:10:27.744264Z"
    }
   },
   "cell_type": "code",
   "source": [
    "VALIDATION_PATH: Path = Path.cwd() / 'validation'\n",
    "print(VALIDATION_PATH)"
   ],
   "id": "87a32f6554f10216",
   "outputs": [
    {
     "name": "stdout",
     "output_type": "stream",
     "text": [
      "/Users/hatuongnguyen/Learning/PyTorch/model/MNIST_Autoencoder/validation\n"
     ]
    }
   ],
   "execution_count": 13
  },
  {
   "metadata": {
    "ExecuteTime": {
     "end_time": "2024-08-26T07:12:45.911011Z",
     "start_time": "2024-08-26T07:12:45.907020Z"
    }
   },
   "cell_type": "code",
   "source": "validation_dataset = AutoencoderDirValidationDataset(VALIDATION_PATH, train_transform)",
   "id": "d738535910786eb",
   "execution_count": 41,
   "outputs": []
  },
  {
   "metadata": {
    "ExecuteTime": {
     "end_time": "2024-08-26T07:13:39.709293Z",
     "start_time": "2024-08-26T07:13:39.346948Z"
    }
   },
   "cell_type": "code",
   "source": [
    "idx = random.randint(0, len(validation_dataset) - 1)\n",
    "img = validation_dataset[idx].unsqueeze(dim=0)\n",
    "\n",
    "plt.figure(figsize=(20, 5))\n",
    "\n",
    "ax = plt.subplot(1, 4, 1)\n",
    "ax.imshow(img.squeeze().numpy(), cmap='gray')\n",
    "ax.axis('off')\n",
    "ax.set_title('Input image')\n",
    "\n",
    "ax = plt.subplot(1, 4, 2)\n",
    "model_load.eval()\n",
    "with torch.inference_mode():\n",
    "    logit_img = model_load(img)\n",
    "ax.imshow(logit_img.squeeze().numpy(), cmap='gray')\n",
    "ax.axis('off')\n",
    "ax.set_title('Output image (logit value)')\n",
    "\n",
    "ax = plt.subplot(1, 4, 3)\n",
    "tar = torch.sigmoid(logit_img)\n",
    "ax.imshow(tar.squeeze().numpy(), cmap='gray')\n",
    "ax.axis('off')\n",
    "ax.set_title('Final image\\n(After passing through sigmoid)')\n",
    "\n",
    "ax = plt.subplot(1, 4, 4)\n",
    "delta = tar - img\n",
    "ax.imshow(delta.squeeze().numpy(), cmap='inferno')\n",
    "ax.axis('off')\n",
    "ax.set_title('Output image minus Final image')\n",
    "\n",
    "plt.show()"
   ],
   "id": "17724516c65f2b93",
   "outputs": [
    {
     "data": {
      "text/plain": [
       "<Figure size 2000x500 with 4 Axes>"
      ],
      "image/png": "[encoded data removed]"
     },
     "metadata": {},
     "output_type": "display_data"
    }
   ],
   "execution_count": 50
  },
  {
   "metadata": {},
   "cell_type": "code",
   "source": "",
   "id": "2b907f400affb531",
   "outputs": [],
   "execution_count": null
  }
 ],
 "metadata": {
  "kernelspec": {
   "display_name": "Python 3",
   "language": "python",
   "name": "python3"
  },
  "language_info": {
   "codemirror_mode": {
    "name": "ipython",
    "version": 2
   },
   "file_extension": ".py",
   "mimetype": "text/x-python",
   "name": "python",
   "nbconvert_exporter": "python",
   "pygments_lexer": "ipython2",
   "version": "2.7.6"
  }
 },
 "nbformat": 4,
 "nbformat_minor": 5
}
