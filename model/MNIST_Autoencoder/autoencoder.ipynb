{
 "cells": [
  {
   "cell_type": "code",
   "id": "initial_id",
   "metadata": {
    "collapsed": true,
    "ExecuteTime": {
     "end_time": "2024-08-26T04:27:35.364231Z",
     "start_time": "2024-08-26T04:27:29.614810Z"
    }
   },
   "source": [
    "import torch\n",
    "from torch import nn, optim\n",
    "from torch.utils.data import DataLoader, Dataset\n",
    "from torch.utils.data.dataloader import default_collate\n",
    "from torchinfo import summary\n",
    "from torchvision import transforms"
   ],
   "outputs": [],
   "execution_count": 1
  },
  {
   "metadata": {
    "ExecuteTime": {
     "end_time": "2024-08-26T04:27:35.768015Z",
     "start_time": "2024-08-26T04:27:35.368467Z"
    }
   },
   "cell_type": "code",
   "source": [
    "import numpy as np\n",
    "import pandas as pd\n",
    "import matplotlib.pyplot as plt\n",
    "\n",
    "import random\n",
    "\n",
    "from typing import Iterable\n",
    "from tqdm import tqdm\n",
    "from nguyenpanda.swan import green\n",
    "import nguyenpanda.crow as crow\n",
    "\n",
    "from pathlib import Path"
   ],
   "id": "c3f6b79cd8ee0349",
   "outputs": [],
   "execution_count": 2
  },
  {
   "metadata": {
    "ExecuteTime": {
     "end_time": "2024-08-26T04:27:35.872483Z",
     "start_time": "2024-08-26T04:27:35.771576Z"
    }
   },
   "cell_type": "code",
   "source": [
    "plt.style.use('dark_background')\n",
    "\n",
    "DEVICE = ('cuda' if torch.cuda.is_available() else\n",
    "          'mps' if torch.backends.mps.is_available() else\n",
    "          'cpu')\n",
    "print(green(DEVICE))\n",
    "\n",
    "IN_COLAB = crow.nb_utils.is_colab()\n",
    "print(green(IN_COLAB))"
   ],
   "id": "af07024c93ca82a7",
   "outputs": [
    {
     "name": "stdout",
     "output_type": "stream",
     "text": [
      "\u001B[1;92mcpu\u001B[0m\n",
      "\u001B[1;92mFalse\u001B[0m\n"
     ]
    }
   ],
   "execution_count": 3
  },
  {
   "metadata": {
    "ExecuteTime": {
     "end_time": "2024-08-26T04:27:36.778826Z",
     "start_time": "2024-08-26T04:27:36.772561Z"
    }
   },
   "cell_type": "code",
   "source": "dataset = crow.Dataset('MNIST').alias('/Users/hatuongnguyen/datasets/MNIST_CSV')",
   "id": "d2cac016b808bc24",
   "outputs": [
    {
     "name": "stdout",
     "output_type": "stream",
     "text": [
      "\u001B[1;93mDirectory \"\u001B[1;92m/Users/hatuongnguyen/Learning/PyTorch/model/mnist_autoencoder/MNIST\u001B[1;93m\" already exists!\u001B[0m\n"
     ]
    }
   ],
   "execution_count": 4
  },
  {
   "metadata": {
    "ExecuteTime": {
     "end_time": "2024-08-26T04:36:00.722535Z",
     "start_time": "2024-08-26T04:36:00.709878Z"
    }
   },
   "cell_type": "code",
   "source": [
    "class MyDataset(Dataset):\n",
    "\n",
    "    def __init__(self, csv_path: Path,\n",
    "                 transform,\n",
    "                 xy_range: Iterable[int] = (5, 15),\n",
    "                 wh_range: Iterable[int] = (7, 15)):\n",
    "        super().__init__()\n",
    "        self.trans = transform\n",
    "        self.df = pd.read_csv(csv_path)\n",
    "        self.path = csv_path\n",
    "        self.xy_range = xy_range\n",
    "        self.wh_range = wh_range\n",
    "\n",
    "    def __len__(self):\n",
    "        return len(self.df)\n",
    "\n",
    "    def __getitem__(self, item: int):\n",
    "        _data = self.df.iloc[item]\n",
    "\n",
    "        y = _data.iloc[1:].to_numpy().reshape((28, 28)).copy().astype(np.uint8)\n",
    "\n",
    "        x = y.copy()\n",
    "        _xy = np.random.randint(*self.xy_range, size=(2,))  # TODO: Change\n",
    "        _wh = np.random.randint(*self.wh_range, size=(2,))  # TODO: Change\n",
    "\n",
    "        _a = np.minimum(_xy + _wh, 27)\n",
    "        x[_xy[0]:_a[0], _xy[1]:_a[1]] = 0\n",
    "\n",
    "        return self.trans(x), self.trans(y)"
   ],
   "id": "af1d03abb515903",
   "outputs": [],
   "execution_count": 5
  },
  {
   "metadata": {
    "ExecuteTime": {
     "end_time": "2024-08-26T04:36:05.996912Z",
     "start_time": "2024-08-26T04:36:01.718318Z"
    }
   },
   "cell_type": "code",
   "source": [
    "train_transform = transforms.Compose([\n",
    "    transforms.ToTensor(),\n",
    "])\n",
    "\n",
    "test_transform = transforms.Compose([\n",
    "    transforms.ToTensor(),\n",
    "])\n",
    "\n",
    "train_dataset = MyDataset(dataset / 'train.csv', train_transform)\n",
    "test_dataset = MyDataset(dataset / 'test.csv', test_transform)\n",
    "\n",
    "print(len(train_dataset), len(test_dataset))"
   ],
   "id": "4659bb4047e329eb",
   "outputs": [
    {
     "name": "stdout",
     "output_type": "stream",
     "text": [
      "60000 10000\n"
     ]
    }
   ],
   "execution_count": 6
  },
  {
   "metadata": {
    "ExecuteTime": {
     "end_time": "2024-08-26T06:12:49.159978Z",
     "start_time": "2024-08-26T06:12:48.805460Z"
    }
   },
   "cell_type": "code",
   "source": [
    "data = train_dataset[random.randint(0, 10000)]\n",
    "\n",
    "fig = plt.figure(figsize=(10, 5))\n",
    "\n",
    "fig.suptitle('Data from dataset')\n",
    "\n",
    "ax = plt.subplot(1, 2, 1)\n",
    "ax.imshow(data[0].squeeze(), cmap='gray')\n",
    "ax.set_title('Input image')\n",
    "ax.axis('off')\n",
    "\n",
    "ax = plt.subplot(1, 2, 2)\n",
    "ax.imshow(data[1].squeeze(), cmap='gray')\n",
    "ax.set_title('Target image')\n",
    "ax.axis('off')\n",
    "\n",
    "plt.show()"
   ],
   "id": "8a669463dda00893",
   "outputs": [
    {
     "data": {
      "text/plain": [
       "<Figure size 1000x500 with 2 Axes>"
      ],
      "image/png": "[encoded data removed]"
     },
     "metadata": {},
     "output_type": "display_data"
    }
   ],
   "execution_count": 58
  },
  {
   "metadata": {
    "ExecuteTime": {
     "end_time": "2024-08-26T04:37:05.881544Z",
     "start_time": "2024-08-26T04:37:05.874992Z"
    }
   },
   "cell_type": "code",
   "source": [
    "def collate_func(batch_list):\n",
    "    return tuple(_tensor.to(DEVICE) for _tensor in default_collate(batch_list))\n",
    "\n",
    "\n",
    "BATCH_SIZE = 32\n",
    "train_loader = DataLoader(dataset=train_dataset, batch_size=BATCH_SIZE, collate_fn=collate_func)\n",
    "test_loader = DataLoader(dataset=test_dataset, batch_size=BATCH_SIZE, collate_fn=collate_func)\n",
    "\n",
    "batch = next(iter(train_loader))\n",
    "print(type(batch), len(batch))\n",
    "print(batch[0].shape)\n",
    "print(batch[1].shape)"
   ],
   "id": "e2772b03057496b4",
   "outputs": [],
   "execution_count": 8
  },
  {
   "metadata": {
    "ExecuteTime": {
     "end_time": "2024-08-26T06:12:21.181432Z",
     "start_time": "2024-08-26T06:12:20.900972Z"
    }
   },
   "cell_type": "code",
   "source": [
    "idx = random.randint(0, 31)\n",
    "\n",
    "fig = plt.figure(figsize=(10, 5))\n",
    "\n",
    "fig.suptitle('Data from dataloader')\n",
    "\n",
    "ax = plt.subplot(1, 2, 1)\n",
    "data = batch[0][idx]\n",
    "ax.imshow(data[0].squeeze(), cmap='gray')\n",
    "ax.set_title('Input image')\n",
    "ax.axis('off')\n",
    "\n",
    "ax = plt.subplot(1, 2, 2)\n",
    "data = batch[1][idx]\n",
    "ax.imshow(data[0].squeeze(), cmap='gray')\n",
    "ax.set_title('Target image')\n",
    "ax.axis('off')\n",
    "\n",
    "plt.show()"
   ],
   "id": "96a3a8dd883df578",
   "outputs": [
    {
     "data": {
      "text/plain": [
       "<Figure size 1000x500 with 2 Axes>"
      ],
      "image/png": "[encoded data removed]"
     },
     "metadata": {},
     "output_type": "display_data"
    }
   ],
   "execution_count": 57
  },
  {
   "metadata": {
    "ExecuteTime": {
     "end_time": "2024-08-26T04:38:29.290736Z",
     "start_time": "2024-08-26T04:38:29.276368Z"
    }
   },
   "cell_type": "code",
   "source": [
    "class MyGodDamnModel(nn.Module):\n",
    "\n",
    "    def __init__(self):\n",
    "        super().__init__()\n",
    "        self.train_call = 0\n",
    "        self.zip = nn.Sequential(\n",
    "            nn.Conv2d(in_channels=1, out_channels=32, kernel_size=3, padding=1),\n",
    "            nn.ReLU(),\n",
    "            nn.MaxPool2d(kernel_size=2),\n",
    "\n",
    "            nn.Conv2d(in_channels=32, out_channels=64, kernel_size=3, padding=1),\n",
    "            nn.ReLU(),\n",
    "            nn.MaxPool2d(kernel_size=2),\n",
    "\n",
    "            nn.Conv2d(in_channels=64, out_channels=128, kernel_size=3, padding=1),\n",
    "        )\n",
    "\n",
    "        self.unzip = nn.Sequential(\n",
    "            nn.Conv2d(in_channels=128, out_channels=64, kernel_size=3, padding=1),\n",
    "            nn.ReLU(),\n",
    "            nn.Upsample(scale_factor=2),\n",
    "\n",
    "            nn.Conv2d(in_channels=64, out_channels=32, kernel_size=3, padding=1),\n",
    "            nn.ReLU(),\n",
    "            nn.Upsample(scale_factor=2),\n",
    "\n",
    "            nn.Conv2d(in_channels=32, out_channels=1, kernel_size=3, padding=1),\n",
    "        )\n",
    "\n",
    "    def forward(self, x):\n",
    "        x = self.zip(x)\n",
    "        return self.unzip(x)\n",
    "\n",
    "    def test_step(self, dataloader, loss_function):\n",
    "        total_batch = len(dataloader)\n",
    "        total_loss = 0\n",
    "\n",
    "        self.eval()\n",
    "        with torch.inference_mode():\n",
    "            for b, (x, y) in enumerate(dataloader, 1):\n",
    "                logit = self.forward(x)\n",
    "                loss = loss_function(logit, y)\n",
    "\n",
    "                total_loss += loss.item()\n",
    "        return total_loss / total_batch\n",
    "\n",
    "    def train_step(self, dataloader, loss_function, optimizer):\n",
    "        self.train_call += 1\n",
    "        total_batch = len(dataloader)\n",
    "        b_pad = len(str(total_batch))\n",
    "        total_loss = 0\n",
    "\n",
    "        self.train()\n",
    "        for b, (x, y) in enumerate(dataloader, 1):\n",
    "            logit = self.forward(x)\n",
    "\n",
    "            loss = loss_function(logit, y)\n",
    "            optimizer.zero_grad()\n",
    "            loss.backward()\n",
    "            optimizer.step()\n",
    "\n",
    "            total_loss += loss.item()\n",
    "\n",
    "            text = '{: >{}}/{} | ins_loss = \\033[1;92m{: >10.5f}\\033[0m'\n",
    "            if IN_COLAB:\n",
    "                text = '\\r' + text\n",
    "            else:\n",
    "                text = text + '\\r'\n",
    "            print(text.format(b, b_pad, total_batch, loss.item()), end='')\n",
    "        print()\n",
    "\n",
    "        return total_loss / total_batch"
   ],
   "id": "93d28e84927c8e81",
   "outputs": [],
   "execution_count": 13
  },
  {
   "metadata": {
    "ExecuteTime": {
     "end_time": "2024-08-26T04:38:34.420718Z",
     "start_time": "2024-08-26T04:38:34.343572Z"
    }
   },
   "cell_type": "code",
   "source": [
    "def wrap_value(value):\n",
    "    return green(f'{value: >8.5f}')\n",
    "\n",
    "\n",
    "EPOCHS = 50\n",
    "LEARNING_RATE = 5e-4\n",
    "HIDDEN_CHANNEL = 40\n",
    "\n",
    "history = dict(train_loss=[], test_loss=[])\n",
    "model = MyGodDamnModel().to(DEVICE)\n",
    "\n",
    "loss_func = nn.BCEWithLogitsLoss()\n",
    "opti = optim.Adam(params=model.parameters(), lr=LEARNING_RATE)\n",
    "\n",
    "print('EPOCHS:', green(EPOCHS))\n",
    "print('LEARNING_RATE:', green(LEARNING_RATE))\n",
    "print('loss_func:', green(loss_func))\n",
    "print('opti:', green(opti.__class__.__name__))\n",
    "\n",
    "summary(model, input_size=(BATCH_SIZE, 1, 28, 28))"
   ],
   "id": "83470ce43635e175",
   "outputs": [
    {
     "name": "stdout",
     "output_type": "stream",
     "text": [
      "EPOCHS: \u001B[1;92m50\u001B[0m\n",
      "LEARNING_RATE: \u001B[1;92m0.0005\u001B[0m\n",
      "loss_func: \u001B[1;92mBCEWithLogitsLoss()\u001B[0m\n",
      "opti: \u001B[1;92mAdam\u001B[0m\n"
     ]
    },
    {
     "data": {
      "text/plain": [
       "==========================================================================================\n",
       "Layer (type:depth-idx)                   Output Shape              Param #\n",
       "==========================================================================================\n",
       "MyGodDamnModel                           [32, 1, 28, 28]           --\n",
       "├─Sequential: 1-1                        [32, 128, 7, 7]           --\n",
       "│    └─Conv2d: 2-1                       [32, 32, 28, 28]          320\n",
       "│    └─ReLU: 2-2                         [32, 32, 28, 28]          --\n",
       "│    └─MaxPool2d: 2-3                    [32, 32, 14, 14]          --\n",
       "│    └─Conv2d: 2-4                       [32, 64, 14, 14]          18,496\n",
       "│    └─ReLU: 2-5                         [32, 64, 14, 14]          --\n",
       "│    └─MaxPool2d: 2-6                    [32, 64, 7, 7]            --\n",
       "│    └─Conv2d: 2-7                       [32, 128, 7, 7]           73,856\n",
       "├─Sequential: 1-2                        [32, 1, 28, 28]           --\n",
       "│    └─Conv2d: 2-8                       [32, 64, 7, 7]            73,792\n",
       "│    └─ReLU: 2-9                         [32, 64, 7, 7]            --\n",
       "│    └─Upsample: 2-10                    [32, 64, 14, 14]          --\n",
       "│    └─Conv2d: 2-11                      [32, 32, 14, 14]          18,464\n",
       "│    └─ReLU: 2-12                        [32, 32, 14, 14]          --\n",
       "│    └─Upsample: 2-13                    [32, 32, 28, 28]          --\n",
       "│    └─Conv2d: 2-14                      [32, 1, 28, 28]           289\n",
       "==========================================================================================\n",
       "Total params: 185,217\n",
       "Trainable params: 185,217\n",
       "Non-trainable params: 0\n",
       "Total mult-adds (Units.MEGABYTES): 478.60\n",
       "==========================================================================================\n",
       "Input size (MB): 0.10\n",
       "Forward/backward pass size (MB): 13.85\n",
       "Params size (MB): 0.74\n",
       "Estimated Total Size (MB): 14.69\n",
       "=========================================================================================="
      ]
     },
     "execution_count": 14,
     "metadata": {},
     "output_type": "execute_result"
    }
   ],
   "execution_count": 14
  },
  {
   "metadata": {
    "ExecuteTime": {
     "end_time": "2024-08-26T04:38:59.950606Z",
     "start_time": "2024-08-26T04:38:48.709834Z"
    }
   },
   "cell_type": "code",
   "source": [
    "MODEL_FILE_NAME = 'zip_unzip.pt'\n",
    "MODEL_PATH: Path = Path('/content/drive/MyDrive/Colab Notebooks/zip_unzip') if IN_COLAB else Path(Path.cwd() / 'parameter')\n",
    "\n",
    "_max_test_loss: int = -1\n",
    "\n",
    "for e in tqdm(range(1, EPOCHS + 1), desc='Epoch: '):\n",
    "    train_loss = model.train_step(train_loader, loss_func, opti)\n",
    "    test_loss = model.test_step(test_loader, loss_func)\n",
    "    print('train_loss = {} | test_loss = {}'.format(\n",
    "        wrap_value(train_loss), wrap_value(test_loss),\n",
    "    ))\n",
    "\n",
    "    history['train_loss'].append(train_loss)\n",
    "    history['test_loss'].append(test_loss)\n",
    "\n",
    "    if _max_test_loss <= test_loss:\n",
    "        _max_test_loss = test_loss\n",
    "\n",
    "        if not MODEL_PATH.is_dir():\n",
    "            MODEL_PATH.mkdir(parents=True, exist_ok=True)\n",
    "        torch.save(model.state_dict(), MODEL_PATH / MODEL_FILE_NAME)"
   ],
   "id": "e685208e91ef1010",
   "outputs": [
    {
     "name": "stderr",
     "output_type": "stream",
     "text": [
      "Epoch:   0%|          | 0/50 [00:00<?, ?it/s]"
     ]
    },
    {
     "name": "stdout",
     "output_type": "stream",
     "text": [
      " 208/1875 | ins_loss = \u001B[1;92m   0.16122\u001B[0m\r"
     ]
    },
    {
     "name": "stderr",
     "output_type": "stream",
     "text": [
      "Epoch:   0%|          | 0/50 [00:09<?, ?it/s]\n"
     ]
    },
    {
     "ename": "KeyboardInterrupt",
     "evalue": "",
     "output_type": "error",
     "traceback": [
      "\u001B[0;31m---------------------------------------------------------------------------\u001B[0m",
      "\u001B[0;31mKeyboardInterrupt\u001B[0m                         Traceback (most recent call last)",
      "Cell \u001B[0;32mIn[15], line 7\u001B[0m\n\u001B[1;32m      4\u001B[0m _max_test_loss: \u001B[38;5;28mint\u001B[39m \u001B[38;5;241m=\u001B[39m \u001B[38;5;241m-\u001B[39m\u001B[38;5;241m1\u001B[39m\n\u001B[1;32m      6\u001B[0m \u001B[38;5;28;01mfor\u001B[39;00m e \u001B[38;5;129;01min\u001B[39;00m tqdm(\u001B[38;5;28mrange\u001B[39m(\u001B[38;5;241m1\u001B[39m, EPOCHS \u001B[38;5;241m+\u001B[39m \u001B[38;5;241m1\u001B[39m), desc\u001B[38;5;241m=\u001B[39m\u001B[38;5;124m'\u001B[39m\u001B[38;5;124mEpoch: \u001B[39m\u001B[38;5;124m'\u001B[39m):\n\u001B[0;32m----> 7\u001B[0m     train_loss \u001B[38;5;241m=\u001B[39m \u001B[43mmodel\u001B[49m\u001B[38;5;241;43m.\u001B[39;49m\u001B[43mtrain_step\u001B[49m\u001B[43m(\u001B[49m\u001B[43mtrain_loader\u001B[49m\u001B[43m,\u001B[49m\u001B[43m \u001B[49m\u001B[43mloss_func\u001B[49m\u001B[43m,\u001B[49m\u001B[43m \u001B[49m\u001B[43mopti\u001B[49m\u001B[43m)\u001B[49m\n\u001B[1;32m      8\u001B[0m     test_loss \u001B[38;5;241m=\u001B[39m model\u001B[38;5;241m.\u001B[39mtest_step(test_loader, loss_func)\n\u001B[1;32m      9\u001B[0m     \u001B[38;5;28mprint\u001B[39m(\u001B[38;5;124m'\u001B[39m\u001B[38;5;124mtrain_loss = \u001B[39m\u001B[38;5;132;01m{}\u001B[39;00m\u001B[38;5;124m | test_loss = \u001B[39m\u001B[38;5;132;01m{}\u001B[39;00m\u001B[38;5;124m'\u001B[39m\u001B[38;5;241m.\u001B[39mformat(\n\u001B[1;32m     10\u001B[0m         wrap_value(train_loss), wrap_value(test_loss),\n\u001B[1;32m     11\u001B[0m     ))\n",
      "Cell \u001B[0;32mIn[13], line 55\u001B[0m, in \u001B[0;36mMyGodDamnModel.train_step\u001B[0;34m(self, dataloader, loss_function, optimizer)\u001B[0m\n\u001B[1;32m     53\u001B[0m \u001B[38;5;28mself\u001B[39m\u001B[38;5;241m.\u001B[39mtrain()\n\u001B[1;32m     54\u001B[0m \u001B[38;5;28;01mfor\u001B[39;00m b, (x, y) \u001B[38;5;129;01min\u001B[39;00m \u001B[38;5;28menumerate\u001B[39m(dataloader, \u001B[38;5;241m1\u001B[39m):\n\u001B[0;32m---> 55\u001B[0m     logit \u001B[38;5;241m=\u001B[39m \u001B[38;5;28;43mself\u001B[39;49m\u001B[38;5;241;43m.\u001B[39;49m\u001B[43mforward\u001B[49m\u001B[43m(\u001B[49m\u001B[43mx\u001B[49m\u001B[43m)\u001B[49m\n\u001B[1;32m     57\u001B[0m     loss \u001B[38;5;241m=\u001B[39m loss_function(logit, y)\n\u001B[1;32m     58\u001B[0m     optimizer\u001B[38;5;241m.\u001B[39mzero_grad()\n",
      "Cell \u001B[0;32mIn[13], line 32\u001B[0m, in \u001B[0;36mMyGodDamnModel.forward\u001B[0;34m(self, x)\u001B[0m\n\u001B[1;32m     30\u001B[0m \u001B[38;5;28;01mdef\u001B[39;00m \u001B[38;5;21mforward\u001B[39m(\u001B[38;5;28mself\u001B[39m, x):\n\u001B[1;32m     31\u001B[0m     x \u001B[38;5;241m=\u001B[39m \u001B[38;5;28mself\u001B[39m\u001B[38;5;241m.\u001B[39mzip(x)\n\u001B[0;32m---> 32\u001B[0m     \u001B[38;5;28;01mreturn\u001B[39;00m \u001B[38;5;28;43mself\u001B[39;49m\u001B[38;5;241;43m.\u001B[39;49m\u001B[43munzip\u001B[49m\u001B[43m(\u001B[49m\u001B[43mx\u001B[49m\u001B[43m)\u001B[49m\n",
      "File \u001B[0;32m~/Learning/PyTorch/.venv/lib/python3.11/site-packages/torch/nn/modules/module.py:1511\u001B[0m, in \u001B[0;36mModule._wrapped_call_impl\u001B[0;34m(self, *args, **kwargs)\u001B[0m\n\u001B[1;32m   1509\u001B[0m     \u001B[38;5;28;01mreturn\u001B[39;00m \u001B[38;5;28mself\u001B[39m\u001B[38;5;241m.\u001B[39m_compiled_call_impl(\u001B[38;5;241m*\u001B[39margs, \u001B[38;5;241m*\u001B[39m\u001B[38;5;241m*\u001B[39mkwargs)  \u001B[38;5;66;03m# type: ignore[misc]\u001B[39;00m\n\u001B[1;32m   1510\u001B[0m \u001B[38;5;28;01melse\u001B[39;00m:\n\u001B[0;32m-> 1511\u001B[0m     \u001B[38;5;28;01mreturn\u001B[39;00m \u001B[38;5;28;43mself\u001B[39;49m\u001B[38;5;241;43m.\u001B[39;49m\u001B[43m_call_impl\u001B[49m\u001B[43m(\u001B[49m\u001B[38;5;241;43m*\u001B[39;49m\u001B[43margs\u001B[49m\u001B[43m,\u001B[49m\u001B[43m \u001B[49m\u001B[38;5;241;43m*\u001B[39;49m\u001B[38;5;241;43m*\u001B[39;49m\u001B[43mkwargs\u001B[49m\u001B[43m)\u001B[49m\n",
      "File \u001B[0;32m~/Learning/PyTorch/.venv/lib/python3.11/site-packages/torch/nn/modules/module.py:1520\u001B[0m, in \u001B[0;36mModule._call_impl\u001B[0;34m(self, *args, **kwargs)\u001B[0m\n\u001B[1;32m   1515\u001B[0m \u001B[38;5;66;03m# If we don't have any hooks, we want to skip the rest of the logic in\u001B[39;00m\n\u001B[1;32m   1516\u001B[0m \u001B[38;5;66;03m# this function, and just call forward.\u001B[39;00m\n\u001B[1;32m   1517\u001B[0m \u001B[38;5;28;01mif\u001B[39;00m \u001B[38;5;129;01mnot\u001B[39;00m (\u001B[38;5;28mself\u001B[39m\u001B[38;5;241m.\u001B[39m_backward_hooks \u001B[38;5;129;01mor\u001B[39;00m \u001B[38;5;28mself\u001B[39m\u001B[38;5;241m.\u001B[39m_backward_pre_hooks \u001B[38;5;129;01mor\u001B[39;00m \u001B[38;5;28mself\u001B[39m\u001B[38;5;241m.\u001B[39m_forward_hooks \u001B[38;5;129;01mor\u001B[39;00m \u001B[38;5;28mself\u001B[39m\u001B[38;5;241m.\u001B[39m_forward_pre_hooks\n\u001B[1;32m   1518\u001B[0m         \u001B[38;5;129;01mor\u001B[39;00m _global_backward_pre_hooks \u001B[38;5;129;01mor\u001B[39;00m _global_backward_hooks\n\u001B[1;32m   1519\u001B[0m         \u001B[38;5;129;01mor\u001B[39;00m _global_forward_hooks \u001B[38;5;129;01mor\u001B[39;00m _global_forward_pre_hooks):\n\u001B[0;32m-> 1520\u001B[0m     \u001B[38;5;28;01mreturn\u001B[39;00m \u001B[43mforward_call\u001B[49m\u001B[43m(\u001B[49m\u001B[38;5;241;43m*\u001B[39;49m\u001B[43margs\u001B[49m\u001B[43m,\u001B[49m\u001B[43m \u001B[49m\u001B[38;5;241;43m*\u001B[39;49m\u001B[38;5;241;43m*\u001B[39;49m\u001B[43mkwargs\u001B[49m\u001B[43m)\u001B[49m\n\u001B[1;32m   1522\u001B[0m \u001B[38;5;28;01mtry\u001B[39;00m:\n\u001B[1;32m   1523\u001B[0m     result \u001B[38;5;241m=\u001B[39m \u001B[38;5;28;01mNone\u001B[39;00m\n",
      "File \u001B[0;32m~/Learning/PyTorch/.venv/lib/python3.11/site-packages/torch/nn/modules/container.py:217\u001B[0m, in \u001B[0;36mSequential.forward\u001B[0;34m(self, input)\u001B[0m\n\u001B[1;32m    215\u001B[0m \u001B[38;5;28;01mdef\u001B[39;00m \u001B[38;5;21mforward\u001B[39m(\u001B[38;5;28mself\u001B[39m, \u001B[38;5;28minput\u001B[39m):\n\u001B[1;32m    216\u001B[0m     \u001B[38;5;28;01mfor\u001B[39;00m module \u001B[38;5;129;01min\u001B[39;00m \u001B[38;5;28mself\u001B[39m:\n\u001B[0;32m--> 217\u001B[0m         \u001B[38;5;28minput\u001B[39m \u001B[38;5;241m=\u001B[39m \u001B[43mmodule\u001B[49m\u001B[43m(\u001B[49m\u001B[38;5;28;43minput\u001B[39;49m\u001B[43m)\u001B[49m\n\u001B[1;32m    218\u001B[0m     \u001B[38;5;28;01mreturn\u001B[39;00m \u001B[38;5;28minput\u001B[39m\n",
      "File \u001B[0;32m~/Learning/PyTorch/.venv/lib/python3.11/site-packages/torch/nn/modules/module.py:1511\u001B[0m, in \u001B[0;36mModule._wrapped_call_impl\u001B[0;34m(self, *args, **kwargs)\u001B[0m\n\u001B[1;32m   1509\u001B[0m     \u001B[38;5;28;01mreturn\u001B[39;00m \u001B[38;5;28mself\u001B[39m\u001B[38;5;241m.\u001B[39m_compiled_call_impl(\u001B[38;5;241m*\u001B[39margs, \u001B[38;5;241m*\u001B[39m\u001B[38;5;241m*\u001B[39mkwargs)  \u001B[38;5;66;03m# type: ignore[misc]\u001B[39;00m\n\u001B[1;32m   1510\u001B[0m \u001B[38;5;28;01melse\u001B[39;00m:\n\u001B[0;32m-> 1511\u001B[0m     \u001B[38;5;28;01mreturn\u001B[39;00m \u001B[38;5;28;43mself\u001B[39;49m\u001B[38;5;241;43m.\u001B[39;49m\u001B[43m_call_impl\u001B[49m\u001B[43m(\u001B[49m\u001B[38;5;241;43m*\u001B[39;49m\u001B[43margs\u001B[49m\u001B[43m,\u001B[49m\u001B[43m \u001B[49m\u001B[38;5;241;43m*\u001B[39;49m\u001B[38;5;241;43m*\u001B[39;49m\u001B[43mkwargs\u001B[49m\u001B[43m)\u001B[49m\n",
      "File \u001B[0;32m~/Learning/PyTorch/.venv/lib/python3.11/site-packages/torch/nn/modules/module.py:1520\u001B[0m, in \u001B[0;36mModule._call_impl\u001B[0;34m(self, *args, **kwargs)\u001B[0m\n\u001B[1;32m   1515\u001B[0m \u001B[38;5;66;03m# If we don't have any hooks, we want to skip the rest of the logic in\u001B[39;00m\n\u001B[1;32m   1516\u001B[0m \u001B[38;5;66;03m# this function, and just call forward.\u001B[39;00m\n\u001B[1;32m   1517\u001B[0m \u001B[38;5;28;01mif\u001B[39;00m \u001B[38;5;129;01mnot\u001B[39;00m (\u001B[38;5;28mself\u001B[39m\u001B[38;5;241m.\u001B[39m_backward_hooks \u001B[38;5;129;01mor\u001B[39;00m \u001B[38;5;28mself\u001B[39m\u001B[38;5;241m.\u001B[39m_backward_pre_hooks \u001B[38;5;129;01mor\u001B[39;00m \u001B[38;5;28mself\u001B[39m\u001B[38;5;241m.\u001B[39m_forward_hooks \u001B[38;5;129;01mor\u001B[39;00m \u001B[38;5;28mself\u001B[39m\u001B[38;5;241m.\u001B[39m_forward_pre_hooks\n\u001B[1;32m   1518\u001B[0m         \u001B[38;5;129;01mor\u001B[39;00m _global_backward_pre_hooks \u001B[38;5;129;01mor\u001B[39;00m _global_backward_hooks\n\u001B[1;32m   1519\u001B[0m         \u001B[38;5;129;01mor\u001B[39;00m _global_forward_hooks \u001B[38;5;129;01mor\u001B[39;00m _global_forward_pre_hooks):\n\u001B[0;32m-> 1520\u001B[0m     \u001B[38;5;28;01mreturn\u001B[39;00m \u001B[43mforward_call\u001B[49m\u001B[43m(\u001B[49m\u001B[38;5;241;43m*\u001B[39;49m\u001B[43margs\u001B[49m\u001B[43m,\u001B[49m\u001B[43m \u001B[49m\u001B[38;5;241;43m*\u001B[39;49m\u001B[38;5;241;43m*\u001B[39;49m\u001B[43mkwargs\u001B[49m\u001B[43m)\u001B[49m\n\u001B[1;32m   1522\u001B[0m \u001B[38;5;28;01mtry\u001B[39;00m:\n\u001B[1;32m   1523\u001B[0m     result \u001B[38;5;241m=\u001B[39m \u001B[38;5;28;01mNone\u001B[39;00m\n",
      "File \u001B[0;32m~/Learning/PyTorch/.venv/lib/python3.11/site-packages/torch/nn/modules/upsampling.py:157\u001B[0m, in \u001B[0;36mUpsample.forward\u001B[0;34m(self, input)\u001B[0m\n\u001B[1;32m    156\u001B[0m \u001B[38;5;28;01mdef\u001B[39;00m \u001B[38;5;21mforward\u001B[39m(\u001B[38;5;28mself\u001B[39m, \u001B[38;5;28minput\u001B[39m: Tensor) \u001B[38;5;241m-\u001B[39m\u001B[38;5;241m>\u001B[39m Tensor:\n\u001B[0;32m--> 157\u001B[0m     \u001B[38;5;28;01mreturn\u001B[39;00m \u001B[43mF\u001B[49m\u001B[38;5;241;43m.\u001B[39;49m\u001B[43minterpolate\u001B[49m\u001B[43m(\u001B[49m\u001B[38;5;28;43minput\u001B[39;49m\u001B[43m,\u001B[49m\u001B[43m \u001B[49m\u001B[38;5;28;43mself\u001B[39;49m\u001B[38;5;241;43m.\u001B[39;49m\u001B[43msize\u001B[49m\u001B[43m,\u001B[49m\u001B[43m \u001B[49m\u001B[38;5;28;43mself\u001B[39;49m\u001B[38;5;241;43m.\u001B[39;49m\u001B[43mscale_factor\u001B[49m\u001B[43m,\u001B[49m\u001B[43m \u001B[49m\u001B[38;5;28;43mself\u001B[39;49m\u001B[38;5;241;43m.\u001B[39;49m\u001B[43mmode\u001B[49m\u001B[43m,\u001B[49m\u001B[43m \u001B[49m\u001B[38;5;28;43mself\u001B[39;49m\u001B[38;5;241;43m.\u001B[39;49m\u001B[43malign_corners\u001B[49m\u001B[43m,\u001B[49m\n\u001B[1;32m    158\u001B[0m \u001B[43m                         \u001B[49m\u001B[43mrecompute_scale_factor\u001B[49m\u001B[38;5;241;43m=\u001B[39;49m\u001B[38;5;28;43mself\u001B[39;49m\u001B[38;5;241;43m.\u001B[39;49m\u001B[43mrecompute_scale_factor\u001B[49m\u001B[43m)\u001B[49m\n",
      "File \u001B[0;32m~/Learning/PyTorch/.venv/lib/python3.11/site-packages/torch/nn/functional.py:4001\u001B[0m, in \u001B[0;36minterpolate\u001B[0;34m(input, size, scale_factor, mode, align_corners, recompute_scale_factor, antialias)\u001B[0m\n\u001B[1;32m   3999\u001B[0m     \u001B[38;5;28;01mreturn\u001B[39;00m torch\u001B[38;5;241m.\u001B[39m_C\u001B[38;5;241m.\u001B[39m_nn\u001B[38;5;241m.\u001B[39mupsample_nearest1d(\u001B[38;5;28minput\u001B[39m, output_size, scale_factors)\n\u001B[1;32m   4000\u001B[0m \u001B[38;5;28;01mif\u001B[39;00m \u001B[38;5;28minput\u001B[39m\u001B[38;5;241m.\u001B[39mdim() \u001B[38;5;241m==\u001B[39m \u001B[38;5;241m4\u001B[39m \u001B[38;5;129;01mand\u001B[39;00m mode \u001B[38;5;241m==\u001B[39m \u001B[38;5;124m\"\u001B[39m\u001B[38;5;124mnearest\u001B[39m\u001B[38;5;124m\"\u001B[39m:\n\u001B[0;32m-> 4001\u001B[0m     \u001B[38;5;28;01mreturn\u001B[39;00m \u001B[43mtorch\u001B[49m\u001B[38;5;241;43m.\u001B[39;49m\u001B[43m_C\u001B[49m\u001B[38;5;241;43m.\u001B[39;49m\u001B[43m_nn\u001B[49m\u001B[38;5;241;43m.\u001B[39;49m\u001B[43mupsample_nearest2d\u001B[49m\u001B[43m(\u001B[49m\u001B[38;5;28;43minput\u001B[39;49m\u001B[43m,\u001B[49m\u001B[43m \u001B[49m\u001B[43moutput_size\u001B[49m\u001B[43m,\u001B[49m\u001B[43m \u001B[49m\u001B[43mscale_factors\u001B[49m\u001B[43m)\u001B[49m\n\u001B[1;32m   4002\u001B[0m \u001B[38;5;28;01mif\u001B[39;00m \u001B[38;5;28minput\u001B[39m\u001B[38;5;241m.\u001B[39mdim() \u001B[38;5;241m==\u001B[39m \u001B[38;5;241m5\u001B[39m \u001B[38;5;129;01mand\u001B[39;00m mode \u001B[38;5;241m==\u001B[39m \u001B[38;5;124m\"\u001B[39m\u001B[38;5;124mnearest\u001B[39m\u001B[38;5;124m\"\u001B[39m:\n\u001B[1;32m   4003\u001B[0m     \u001B[38;5;28;01mreturn\u001B[39;00m torch\u001B[38;5;241m.\u001B[39m_C\u001B[38;5;241m.\u001B[39m_nn\u001B[38;5;241m.\u001B[39mupsample_nearest3d(\u001B[38;5;28minput\u001B[39m, output_size, scale_factors)\n",
      "\u001B[0;31mKeyboardInterrupt\u001B[0m: "
     ]
    }
   ],
   "execution_count": 15
  },
  {
   "metadata": {
    "ExecuteTime": {
     "end_time": "2024-08-26T05:20:58.474457Z",
     "start_time": "2024-08-26T05:20:58.444017Z"
    }
   },
   "cell_type": "code",
   "source": [
    "print(MODEL_PATH)\n",
    "\n",
    "model_load = MyGodDamnModel().to(DEVICE)\n",
    "model_load.load_state_dict(torch.load(MODEL_PATH / 'google_colab.pt', map_location=torch.device('cpu')))"
   ],
   "id": "400bf4bbba44643f",
   "outputs": [
    {
     "name": "stdout",
     "output_type": "stream",
     "text": [
      "/Users/hatuongnguyen/Learning/PyTorch/model/mnist_autoencoder/parameter\n"
     ]
    },
    {
     "data": {
      "text/plain": [
       "<All keys matched successfully>"
      ]
     },
     "execution_count": 17,
     "metadata": {},
     "output_type": "execute_result"
    }
   ],
   "execution_count": 17
  },
  {
   "metadata": {
    "ExecuteTime": {
     "end_time": "2024-08-26T05:21:02.137219Z",
     "start_time": "2024-08-26T05:21:00.955926Z"
    }
   },
   "cell_type": "code",
   "source": [
    "from matplotlib.image import imsave\n",
    "\n",
    "for i, a in enumerate(test_loader):\n",
    "    if i == 3:\n",
    "        break\n",
    "\n",
    "model_load.eval()\n",
    "with torch.inference_mode():\n",
    "    output = model_load(a[0])\n",
    "\n",
    "idx = random.randint(0, 31)\n",
    "\n",
    "plt.figure(figsize=(20, 5))\n",
    "\n",
    "ax = plt.subplot(1, 5, 1)\n",
    "target = a[0][idx]\n",
    "ax.imshow(target[0].squeeze(), cmap='gray')\n",
    "ax.axis('off')\n",
    "print(torch.sum(target[0]))\n",
    "\n",
    "ax = plt.subplot(1, 5, 2)\n",
    "miss = a[1][idx]\n",
    "ax.imshow(miss[0].squeeze(), cmap='gray')\n",
    "ax.axis('off')\n",
    "print(torch.sum(miss[0]))\n",
    "\n",
    "ax = plt.subplot(1, 5, 3)\n",
    "ax.imshow(output[idx].squeeze(), cmap='gray')\n",
    "ax.axis('off')\n",
    "print(torch.sum(output[idx]))\n",
    "\n",
    "ax = plt.subplot(1, 5, 4)\n",
    "_output = torch.sigmoid(output)\n",
    "ax.imshow(_output[idx].squeeze(), cmap='gray')\n",
    "ax.axis('off')\n",
    "print(torch.sum(output[idx]))\n",
    "\n",
    "ax = plt.subplot(1, 5, 5)\n",
    "delta = _output[idx] - miss\n",
    "ax.imshow(delta.squeeze(), cmap='inferno')\n",
    "ax.axis('off')\n",
    "print(torch.sum(delta))\n",
    "\n",
    "plt.show()"
   ],
   "id": "da3908fc6e34f45b",
   "outputs": [
    {
     "name": "stdout",
     "output_type": "stream",
     "text": [
      "tensor(34.1373)\n",
      "tensor(66.3686)\n",
      "tensor(-12979.2002)\n",
      "tensor(-12979.2002)\n",
      "tensor(-0.3271)\n"
     ]
    },
    {
     "data": {
      "text/plain": [
       "<Figure size 2000x500 with 5 Axes>"
      ],
      "image/png": "[encoded data removed]"
     },
     "metadata": {},
     "output_type": "display_data"
    }
   ],
   "execution_count": 18
  },
  {
   "metadata": {
    "ExecuteTime": {
     "end_time": "2024-08-26T05:21:05.607620Z",
     "start_time": "2024-08-26T05:21:05.597764Z"
    }
   },
   "cell_type": "code",
   "source": [
    "VALIDATION_PATH: Path = Path.cwd() / 'validation'\n",
    "print(VALIDATION_PATH)\n",
    "\n",
    "\n",
    "class ValidationDataset(Dataset):\n",
    "\n",
    "    def __init__(self, path: Path, transform):\n",
    "        self.path = path\n",
    "        self.list_img = list(path.glob('*.png'))\n",
    "        self.trans = transform\n",
    "\n",
    "    def __len__(self):\n",
    "        return len(self.list_img)\n",
    "\n",
    "    def __getitem__(self, item) -> torch.Tensor:\n",
    "        img = self.get_img(item)\n",
    "\n",
    "        _xy = np.random.randint(5, 15, size=(2,))  # TODO: Change\n",
    "        _wh = np.random.randint(7, 15, size=(2,))  # TODO: Change\n",
    "        _a = np.minimum(_xy + _wh, 27)\n",
    "\n",
    "        img[_xy[0]:_a[0], _xy[1]:_a[1]] = 0\n",
    "        return self.trans(img)\n",
    "\n",
    "    def get_img(self, item):\n",
    "        img_path = self.list_img[item]\n",
    "        img = plt.imread(img_path)\n",
    "        if img.ndim > 1:\n",
    "            img = img[..., 0]\n",
    "        return img"
   ],
   "id": "87a32f6554f10216",
   "outputs": [
    {
     "name": "stdout",
     "output_type": "stream",
     "text": [
      "/Users/hatuongnguyen/Learning/PyTorch/model/mnist_autoencoder/validation\n"
     ]
    }
   ],
   "execution_count": 19
  },
  {
   "metadata": {
    "ExecuteTime": {
     "end_time": "2024-08-26T05:21:07.113044Z",
     "start_time": "2024-08-26T05:21:07.103908Z"
    }
   },
   "cell_type": "code",
   "source": "validation_dataset = ValidationDataset(VALIDATION_PATH, train_transform)",
   "id": "d738535910786eb",
   "outputs": [],
   "execution_count": 20
  },
  {
   "metadata": {
    "ExecuteTime": {
     "end_time": "2024-08-26T05:36:36.920127Z",
     "start_time": "2024-08-26T05:36:36.484928Z"
    }
   },
   "cell_type": "code",
   "source": [
    "# img = validation_dataset[2].unsqueeze(dim=0)\n",
    "img = torch.tensor(plt.imread(\n",
    "    '/Users/hatuongnguyen/NguyenLibrary/florentino/demo/mnist/drawn_image.png'\n",
    ")).reshape(1, 1, 28, 28)\n",
    "\n",
    "\n",
    "plt.figure(figsize=(20, 5))\n",
    "\n",
    "ax = plt.subplot(1, 4, 1)\n",
    "ax.imshow(img.squeeze().numpy(), cmap='gray')\n",
    "ax.axis('off')\n",
    "\n",
    "ax = plt.subplot(1, 4, 2)\n",
    "model_load.eval()\n",
    "with torch.inference_mode():\n",
    "    logit_img = model_load(img)\n",
    "ax.imshow(logit_img.squeeze().numpy(), cmap='gray')\n",
    "ax.axis('off')\n",
    "\n",
    "ax = plt.subplot(1, 4, 3)\n",
    "tar = torch.sigmoid(logit_img)\n",
    "ax.imshow(tar.squeeze().numpy(), cmap='gray')\n",
    "ax.axis('off')\n",
    "\n",
    "ax = plt.subplot(1, 4, 4)\n",
    "delta = tar - img\n",
    "ax.imshow(delta.squeeze().numpy(), cmap='inferno')\n",
    "ax.axis('off')\n",
    "\n",
    "plt.show()"
   ],
   "id": "17724516c65f2b93",
   "outputs": [
    {
     "data": {
      "text/plain": [
       "<Figure size 2000x500 with 4 Axes>"
      ],
      "image/png": "[encoded data removed]"
     },
     "metadata": {},
     "output_type": "display_data"
    }
   ],
   "execution_count": 50
  },
  {
   "metadata": {},
   "cell_type": "code",
   "source": "",
   "id": "2b907f400affb531",
   "outputs": [],
   "execution_count": null
  }
 ],
 "metadata": {
  "kernelspec": {
   "display_name": "Python 3",
   "language": "python",
   "name": "python3"
  },
  "language_info": {
   "codemirror_mode": {
    "name": "ipython",
    "version": 2
   },
   "file_extension": ".py",
   "mimetype": "text/x-python",
   "name": "python",
   "nbconvert_exporter": "python",
   "pygments_lexer": "ipython2",
   "version": "2.7.6"
  }
 },
 "nbformat": 4,
 "nbformat_minor": 5
}
