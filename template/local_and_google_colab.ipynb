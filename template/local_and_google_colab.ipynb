{
 "cells": [
  {
   "metadata": {},
   "cell_type": "markdown",
   "source": [
    "#  (Nguyen Tuong Ha - nguyenpanda)\n",
    "- Dataset link: [Kaggle]()\n",
    "\n",
    "# Table of Contents\n",
    "<!-- TOC -->\n",
    "* [(Nguyen Tuong Ha - nguyenpanda)](#nguyen-tuong-ha---nguyenpanda)\n",
    "* [Table of Contents](#table-of-contents)\n",
    "* [0. Setup](#0-setup)\n",
    "  * [0.0. Install packages](#00-install-packages)\n",
    "  * [0.1. Checking running environment](#01-checking-running-environment)\n",
    "    * [Download dataset from Kaggle](#download-dataset-from-kaggle)\n",
    "    * [Creating a symbolic link (alias) to an exist directory](#creating-a-symbolic-link-alias-to-an-exist-directory)\n",
    "<!-- TOC -->"
   ],
   "id": "aad565d935037d74"
  },
  {
   "metadata": {},
   "cell_type": "markdown",
   "source": "# 0. Setup",
   "id": "663c9807a2b53bdf"
  },
  {
   "metadata": {},
   "cell_type": "markdown",
   "source": "## 0.0. Install packages",
   "id": "ab92150c7108694f"
  },
  {
   "cell_type": "code",
   "id": "initial_id",
   "metadata": {
    "collapsed": true
   },
   "source": "!pip install nguyenpanda kaggle torchmetrics torchinfo mlxtend",
   "outputs": [],
   "execution_count": null
  },
  {
   "metadata": {},
   "cell_type": "code",
   "source": [
    "import torch\n",
    "import torchvision\n",
    "\n",
    "from torch import nn\n",
    "from torch import optim\n",
    "from torchmetrics import ConfusionMatrix\n",
    "from torch.utils import data as torch_data\n",
    "from torch.utils.data import DataLoader, Dataset, random_split\n",
    "from torch.utils.data.dataloader import default_collate\n",
    "\n",
    "from torchvision import datasets\n",
    "from torchvision import transforms\n",
    "\n",
    "from torchinfo import summary"
   ],
   "id": "36bff7c0eadb98fd",
   "outputs": [],
   "execution_count": null
  },
  {
   "metadata": {},
   "cell_type": "code",
   "source": [
    "import numpy as np\n",
    "import pandas as pd\n",
    "import matplotlib as mpl\n",
    "import matplotlib.pyplot as plt\n",
    "import seaborn as sns\n",
    "import mlxtend as mle\n",
    "import nguyenpanda\n",
    "\n",
    "import os\n",
    "import sys\n",
    "import pathlib\n",
    "import importlib\n",
    "import random\n",
    "import typing_extensions as te\n",
    "\n",
    "from nguyenpanda.swan import color, green, yellow\n",
    "import nguyenpanda.crow as crow\n",
    "from PIL import Image\n",
    "from IPython import display\n",
    "from tqdm.auto import tqdm\n",
    "from mlxtend.plotting import plot_confusion_matrix\n",
    "\n",
    "from pathlib import Path"
   ],
   "id": "d591a27e98e252e9",
   "outputs": [],
   "execution_count": null
  },
  {
   "metadata": {},
   "cell_type": "markdown",
   "source": "## 0.1. Checking running environment",
   "id": "94e40f87a7d2d5a"
  },
  {
   "metadata": {},
   "cell_type": "code",
   "source": [
    "DEVICE = ('cuda' if torch.cuda.is_available() else\n",
    "          'mps' if torch.backends.mps.is_available() else\n",
    "          'cpu')\n",
    "print('DEVICE:', green(DEVICE))\n",
    "\n",
    "CPUs = os.cpu_count()\n",
    "print('CPUs:', green(CPUs))\n",
    "\n",
    "# print(plt.style.available)\n",
    "plt.style.use('dark_background')\n",
    "\n",
    "IN_COLAB: bool = crow.nbu.is_colab()\n",
    "MY_DRIVE: te.Optional[Path] = crow.gcu.mount_google_drive()"
   ],
   "id": "2a2ec675ecad77ea",
   "outputs": [],
   "execution_count": null
  },
  {
   "metadata": {},
   "cell_type": "markdown",
   "source": "### Download dataset from Kaggle",
   "id": "38fea6d549b00ffe"
  },
  {
   "metadata": {},
   "cell_type": "code",
   "source": [
    "# For downloading dataset from Kaggle\n",
    "dataset: crow.Dataset = crow.Dataset(\n",
    "    # name='<folder name>'  # By default: None\n",
    "    name='kaggle_dataset'  # By default: None\n",
    ")\n",
    "dataset: crow.Dataset = dataset.kaggle(\n",
    "    api='kaggle datasets download -d uom190346a/sleep-and-health-metrics',\n",
    "    # api='kaggle datasets download -d <username>/<dataset name>',  # Must explicitly provide user\n",
    "    to_path=Path.cwd(),  # By default: Path.cwd()\n",
    "    verbose=True,  # By default: True\n",
    ")\n",
    "dataset: crow.Dataset = dataset.alias(\n",
    "    source=None,  # By default: None (if None, alias name is '<folder name>' provided at Dataset constructor\n",
    "    destination=Path.cwd(),  # By default: Path.cwd()\n",
    "    verbose=True,  # By default: True\n",
    ")"
   ],
   "id": "a9619e90a3420dfd",
   "outputs": [],
   "execution_count": null
  },
  {
   "metadata": {},
   "cell_type": "markdown",
   "source": "### Creating a symbolic link (alias) to an exist directory",
   "id": "a9fdb577cb223f2f"
  },
  {
   "metadata": {},
   "cell_type": "code",
   "source": [
    "# For creating a symbolic link (alias) to an existing directory\n",
    "dataset: crow.Dataset = crow.Dataset(\n",
    "    # name='<dataset-alias-name>'  # By default: None\n",
    "    name='local_dataset'  # By default: None\n",
    ")\n",
    "\n",
    "dataset: crow.Dataset = dataset.alias(\n",
    "    source=crow.Dataset.bfs_find('datasets', search_path=Path.home()),  \n",
    "    # By default: `source` is None (if None, alias name is '<dataset-alias-name>' provided at Dataset constructor\n",
    "    # Either `name` or `source` must be provided, else a ValueError is raised. \n",
    "    destination=Path.cwd(),  # By default: Path.cwd()\n",
    "    verbose=True,  # By default: True\n",
    ")\n",
    "\n",
    "DATASET_SOURCE_DIR: Path = dataset.dataset_source_dir"
   ],
   "id": "e9b38b3fac2f0054",
   "outputs": [],
   "execution_count": null
  },
  {
   "metadata": {},
   "cell_type": "code",
   "source": "",
   "id": "57d33ac4df6f8edf",
   "outputs": [],
   "execution_count": null
  }
 ],
 "metadata": {
  "kernelspec": {
   "display_name": "Python 3",
   "language": "python",
   "name": "python3"
  },
  "language_info": {
   "codemirror_mode": {
    "name": "ipython",
    "version": 2
   },
   "file_extension": ".py",
   "mimetype": "text/x-python",
   "name": "python",
   "nbconvert_exporter": "python",
   "pygments_lexer": "ipython2",
   "version": "2.7.6"
  }
 },
 "nbformat": 4,
 "nbformat_minor": 5
}
