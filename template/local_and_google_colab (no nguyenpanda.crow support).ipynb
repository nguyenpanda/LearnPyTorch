{
 "cells": [
  {
   "metadata": {},
   "cell_type": "markdown",
   "source": [
    "#  (Nguyen Tuong Ha - nguyenpanda)\n",
    "- Dataset link: [Kaggle]()\n",
    "\n",
    "# Table of Contents\n",
    "<!-- TOC -->\n",
    "\n",
    "<!-- TOC -->"
   ],
   "id": "624323a8fb01e6ac"
  },
  {
   "metadata": {},
   "cell_type": "markdown",
   "source": "# 0. Setup",
   "id": "3ef77246daa6059d"
  },
  {
   "metadata": {},
   "cell_type": "markdown",
   "source": "## 0.0. Install packages",
   "id": "3004cd65e03d76b9"
  },
  {
   "metadata": {},
   "cell_type": "code",
   "source": "!pip install nguyenpanda kaggle torchmetrics torchinfo mlxtend",
   "id": "6016dd404742092a",
   "outputs": [],
   "execution_count": null
  },
  {
   "metadata": {},
   "cell_type": "code",
   "source": [
    "import torch\n",
    "import torchvision\n",
    "\n",
    "from torch import nn\n",
    "from torch import optim\n",
    "from torchmetrics import ConfusionMatrix\n",
    "from torch.utils import data as torch_data\n",
    "from torch.utils.data import DataLoader, Dataset, random_split\n",
    "from torch.utils.data.dataloader import default_collate\n",
    "\n",
    "from torchvision import datasets\n",
    "from torchvision import transforms\n",
    "\n",
    "from torchinfo import summary"
   ],
   "id": "560a1741ba326587",
   "outputs": [],
   "execution_count": null
  },
  {
   "cell_type": "code",
   "id": "initial_id",
   "metadata": {
    "collapsed": true
   },
   "source": [
    "import numpy as np\n",
    "import pandas as pd\n",
    "import matplotlib as mpl\n",
    "import matplotlib.pyplot as plt\n",
    "import seaborn as sns\n",
    "import mlxtend as mle\n",
    "import nguyenpanda\n",
    "\n",
    "import os\n",
    "import sys\n",
    "import pathlib\n",
    "import importlib\n",
    "import random\n",
    "import typing_extensions as te\n",
    "\n",
    "from nguyenpanda.swan import color, green, yellow\n",
    "import nguyenpanda.crow as crow\n",
    "from PIL import Image\n",
    "from IPython import display\n",
    "from tqdm.auto import tqdm\n",
    "from mlxtend.plotting import plot_confusion_matrix\n",
    "\n",
    "from pathlib import Path"
   ],
   "outputs": [],
   "execution_count": null
  },
  {
   "metadata": {},
   "cell_type": "markdown",
   "source": "## 0.1. Checking running environment ",
   "id": "b242a7a4f7d983fb"
  },
  {
   "metadata": {},
   "cell_type": "code",
   "source": [
    "DEVICE = ('cuda' if torch.cuda.is_available() else\n",
    "          'mps' if torch.backends.mps.is_available() else\n",
    "          'cpu')\n",
    "print('DEVICE:', green(DEVICE))\n",
    "\n",
    "CPUs = os.cpu_count()\n",
    "print('CPUs:', green(CPUs))\n",
    "\n",
    "# print(plt.style.available)\n",
    "plt.style.use('dark_background')"
   ],
   "id": "840355513d7dbd9d",
   "outputs": [],
   "execution_count": null
  },
  {
   "metadata": {},
   "cell_type": "markdown",
   "source": "## 0.2. Download datasets on Kaggle if using Google Colab",
   "id": "4bdff72f1e2b8a28"
  },
  {
   "metadata": {},
   "cell_type": "code",
   "outputs": [],
   "execution_count": null,
   "source": "",
   "id": "cf7c2c92458e170e"
  },
  {
   "metadata": {},
   "cell_type": "code",
   "source": [
    "LOCALLY_DOWNLOAD: bool = False\n",
    "\n",
    "# DATASET_DIR_NAME\n",
    "#   - Local: replace it with actual directory name\n",
    "#   - Google Colab: name what you want \"dataset_alias\" or \"dataset\"\n",
    "DATASET_DIR_NAME = '<Name>'\n",
    "\n",
    "# KAGGLE_API_COMMAND\n",
    "#   - Local: This can be ignored\n",
    "#   - Google Colab: replace it by actual API command\n",
    "#       → Example: \"kaggle datasets download -d muhammadehsan000/diabetes-healthcare-dataset\"\n",
    "KAGGLE_API_COMMAND = ''\n",
    "DATASET_SOURCE_DIR: Path = Path('/Users/hatuongnguyen/datasets') / DATASET_DIR_NAME"
   ],
   "id": "41b44cc295b592b7",
   "outputs": [],
   "execution_count": null
  },
  {
   "metadata": {},
   "cell_type": "code",
   "source": [
    "IN_COLAB: bool = crow.nbu.is_colab()\n",
    "if IN_COLAB:\n",
    "    from google.colab import files, output, drive\n",
    "\n",
    "    DATASET_SOURCE_DIR: Path = Path.cwd() / DATASET_DIR_NAME\n",
    "\n",
    "    print(yellow('Please upload your Kaggle API json file'))\n",
    "    output.eval_js('new Audio(\"https://static.wikia.nocookie.net/soundeffects/images/c/c8/IOS_Message_Tone_Sound.ogg\").play()')\n",
    "    files.upload()\n",
    "    os.system('mkdir ~/.kaggle')\n",
    "    os.system('cp kaggle.json ~/.kaggle/')\n",
    "    os.system('chmod 600 ~/.kaggle/kaggle.json')\n",
    "\n",
    "if IN_COLAB or LOCALLY_DOWNLOAD:\n",
    "    print(green('Downloading Kaggle dataset...'))\n",
    "    if len(KAGGLE_API_COMMAND) < 29:\n",
    "        raise ValueError('KAGGLE_API_COMMAND must be replaced by actual API command')\n",
    "    os.system(KAGGLE_API_COMMAND)\n",
    "    print(green('Unzip Kaggle Dataset...'))\n",
    "    os.system(f'unzip {KAGGLE_API_COMMAND.split(\"/\")[-1]}.zip -d \"{DATASET_DIR_NAME}\"')\n",
    "    \n",
    "if IN_COLAB:\n",
    "    print(yellow('Connect to Google Drive to save model Parameter and Figure, you can delete code below if you don\\'t want'))\n",
    "    output.eval_js('new Audio(\"https://static.wikia.nocookie.net/soundeffects/images/c/c8/IOS_Message_Tone_Sound.ogg\").play()')\n",
    "    drive.mount('/content/drive')"
   ],
   "id": "e69fe4a6e4e8f419",
   "outputs": [],
   "execution_count": null
  },
  {
   "metadata": {},
   "cell_type": "code",
   "source": [
    "print(f'DATASET_SOURCE_DIR:', green(DATASET_SOURCE_DIR))\n",
    "DATASET_DIR: Path = crow.nb_utils.create_alias(DATASET_SOURCE_DIR, DATASET_DIR_NAME)\n",
    "print(f'DATASET_DIR:', green(DATASET_DIR))"
   ],
   "id": "cc760a4422cc462a",
   "outputs": [],
   "execution_count": null
  },
  {
   "metadata": {},
   "cell_type": "code",
   "source": "",
   "id": "fbba4cd5d5daacbd",
   "outputs": [],
   "execution_count": null
  }
 ],
 "metadata": {
  "kernelspec": {
   "display_name": "Python 3",
   "language": "python",
   "name": "python3"
  },
  "language_info": {
   "codemirror_mode": {
    "name": "ipython",
    "version": 2
   },
   "file_extension": ".py",
   "mimetype": "text/x-python",
   "name": "python",
   "nbconvert_exporter": "python",
   "pygments_lexer": "ipython2",
   "version": "2.7.6"
  }
 },
 "nbformat": 4,
 "nbformat_minor": 5
}
